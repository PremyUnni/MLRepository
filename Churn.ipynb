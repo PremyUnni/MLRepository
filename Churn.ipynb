{
 "cells": [
  {
   "cell_type": "code",
   "execution_count": 11,
   "metadata": {},
   "outputs": [],
   "source": [
    "your_local_path = \"D:/ML/Practice/\""
   ]
  },
  {
   "cell_type": "code",
   "execution_count": 12,
   "metadata": {},
   "outputs": [],
   "source": [
    "#importing libraries\n",
    "import pandas as pd\n",
    "import numpy as np\n",
    "import seaborn as sns\n",
    "import matplotlib.pyplot as plt\n",
    "%matplotlib inline"
   ]
  },
  {
   "cell_type": "code",
   "execution_count": 13,
   "metadata": {},
   "outputs": [],
   "source": [
    "# Create dataframe for the dataset\n",
    "churn_data_df = pd.read_csv(your_local_path +\"latest.csv\")"
   ]
  },
  {
   "cell_type": "code",
   "execution_count": 14,
   "metadata": {},
   "outputs": [
    {
     "data": {
      "text/html": [
       "<div>\n",
       "<style scoped>\n",
       "    .dataframe tbody tr th:only-of-type {\n",
       "        vertical-align: middle;\n",
       "    }\n",
       "\n",
       "    .dataframe tbody tr th {\n",
       "        vertical-align: top;\n",
       "    }\n",
       "\n",
       "    .dataframe thead th {\n",
       "        text-align: right;\n",
       "    }\n",
       "</style>\n",
       "<table border=\"1\" class=\"dataframe\">\n",
       "  <thead>\n",
       "    <tr style=\"text-align: right;\">\n",
       "      <th></th>\n",
       "      <th>Unnamed: 0</th>\n",
       "      <th>acct_no</th>\n",
       "      <th>cont_no</th>\n",
       "      <th>gender</th>\n",
       "      <th>bill_cycl</th>\n",
       "      <th>serv_type</th>\n",
       "      <th>secured_revenue</th>\n",
       "      <th>tenure</th>\n",
       "      <th>churn</th>\n",
       "      <th>contract_end</th>\n",
       "    </tr>\n",
       "  </thead>\n",
       "  <tbody>\n",
       "    <tr>\n",
       "      <th>0</th>\n",
       "      <td>0</td>\n",
       "      <td>70171228</td>\n",
       "      <td>2</td>\n",
       "      <td>M</td>\n",
       "      <td>1</td>\n",
       "      <td>VDSL</td>\n",
       "      <td>137.98</td>\n",
       "      <td>216</td>\n",
       "      <td>N</td>\n",
       "      <td>202003.0</td>\n",
       "    </tr>\n",
       "    <tr>\n",
       "      <th>1</th>\n",
       "      <td>1</td>\n",
       "      <td>70099932</td>\n",
       "      <td>1</td>\n",
       "      <td>NaN</td>\n",
       "      <td>11</td>\n",
       "      <td>RBS</td>\n",
       "      <td>94.00</td>\n",
       "      <td>219</td>\n",
       "      <td>N</td>\n",
       "      <td>202007.0</td>\n",
       "    </tr>\n",
       "    <tr>\n",
       "      <th>2</th>\n",
       "      <td>2</td>\n",
       "      <td>70109566</td>\n",
       "      <td>1</td>\n",
       "      <td>NaN</td>\n",
       "      <td>15</td>\n",
       "      <td>RBS</td>\n",
       "      <td>126.00</td>\n",
       "      <td>221</td>\n",
       "      <td>N</td>\n",
       "      <td>202107.0</td>\n",
       "    </tr>\n",
       "    <tr>\n",
       "      <th>3</th>\n",
       "      <td>3</td>\n",
       "      <td>70283270</td>\n",
       "      <td>1</td>\n",
       "      <td>M</td>\n",
       "      <td>15</td>\n",
       "      <td>VDSL</td>\n",
       "      <td>77.00</td>\n",
       "      <td>219</td>\n",
       "      <td>N</td>\n",
       "      <td>202001.0</td>\n",
       "    </tr>\n",
       "    <tr>\n",
       "      <th>4</th>\n",
       "      <td>4</td>\n",
       "      <td>70116504</td>\n",
       "      <td>1</td>\n",
       "      <td>NaN</td>\n",
       "      <td>11</td>\n",
       "      <td>VDSL</td>\n",
       "      <td>128.99</td>\n",
       "      <td>221</td>\n",
       "      <td>N</td>\n",
       "      <td>202008.0</td>\n",
       "    </tr>\n",
       "  </tbody>\n",
       "</table>\n",
       "</div>"
      ],
      "text/plain": [
       "   Unnamed: 0   acct_no  cont_no gender  bill_cycl serv_type  secured_revenue  \\\n",
       "0           0  70171228        2      M          1      VDSL           137.98   \n",
       "1           1  70099932        1    NaN         11       RBS            94.00   \n",
       "2           2  70109566        1    NaN         15       RBS           126.00   \n",
       "3           3  70283270        1      M         15      VDSL            77.00   \n",
       "4           4  70116504        1    NaN         11      VDSL           128.99   \n",
       "\n",
       "   tenure churn  contract_end  \n",
       "0     216     N      202003.0  \n",
       "1     219     N      202007.0  \n",
       "2     221     N      202107.0  \n",
       "3     219     N      202001.0  \n",
       "4     221     N      202008.0  "
      ]
     },
     "execution_count": 14,
     "metadata": {},
     "output_type": "execute_result"
    }
   ],
   "source": [
    "# Display columns in the dataframe\n",
    "churn_data_df.head()"
   ]
  },
  {
   "cell_type": "code",
   "execution_count": 15,
   "metadata": {},
   "outputs": [
    {
     "data": {
      "text/html": [
       "<div>\n",
       "<style scoped>\n",
       "    .dataframe tbody tr th:only-of-type {\n",
       "        vertical-align: middle;\n",
       "    }\n",
       "\n",
       "    .dataframe tbody tr th {\n",
       "        vertical-align: top;\n",
       "    }\n",
       "\n",
       "    .dataframe thead th {\n",
       "        text-align: right;\n",
       "    }\n",
       "</style>\n",
       "<table border=\"1\" class=\"dataframe\">\n",
       "  <thead>\n",
       "    <tr style=\"text-align: right;\">\n",
       "      <th></th>\n",
       "      <th>acct_no</th>\n",
       "      <th>cont_no</th>\n",
       "      <th>gender</th>\n",
       "      <th>bill_cycl</th>\n",
       "      <th>serv_type</th>\n",
       "      <th>secured_revenue</th>\n",
       "      <th>tenure</th>\n",
       "      <th>churn</th>\n",
       "      <th>contract_end</th>\n",
       "    </tr>\n",
       "  </thead>\n",
       "  <tbody>\n",
       "    <tr>\n",
       "      <th>0</th>\n",
       "      <td>70171228</td>\n",
       "      <td>2</td>\n",
       "      <td>M</td>\n",
       "      <td>1</td>\n",
       "      <td>VDSL</td>\n",
       "      <td>137.98</td>\n",
       "      <td>216</td>\n",
       "      <td>N</td>\n",
       "      <td>202003.0</td>\n",
       "    </tr>\n",
       "    <tr>\n",
       "      <th>1</th>\n",
       "      <td>70099932</td>\n",
       "      <td>1</td>\n",
       "      <td>NaN</td>\n",
       "      <td>11</td>\n",
       "      <td>RBS</td>\n",
       "      <td>94.00</td>\n",
       "      <td>219</td>\n",
       "      <td>N</td>\n",
       "      <td>202007.0</td>\n",
       "    </tr>\n",
       "    <tr>\n",
       "      <th>2</th>\n",
       "      <td>70109566</td>\n",
       "      <td>1</td>\n",
       "      <td>NaN</td>\n",
       "      <td>15</td>\n",
       "      <td>RBS</td>\n",
       "      <td>126.00</td>\n",
       "      <td>221</td>\n",
       "      <td>N</td>\n",
       "      <td>202107.0</td>\n",
       "    </tr>\n",
       "    <tr>\n",
       "      <th>3</th>\n",
       "      <td>70283270</td>\n",
       "      <td>1</td>\n",
       "      <td>M</td>\n",
       "      <td>15</td>\n",
       "      <td>VDSL</td>\n",
       "      <td>77.00</td>\n",
       "      <td>219</td>\n",
       "      <td>N</td>\n",
       "      <td>202001.0</td>\n",
       "    </tr>\n",
       "    <tr>\n",
       "      <th>4</th>\n",
       "      <td>70116504</td>\n",
       "      <td>1</td>\n",
       "      <td>NaN</td>\n",
       "      <td>11</td>\n",
       "      <td>VDSL</td>\n",
       "      <td>128.99</td>\n",
       "      <td>221</td>\n",
       "      <td>N</td>\n",
       "      <td>202008.0</td>\n",
       "    </tr>\n",
       "  </tbody>\n",
       "</table>\n",
       "</div>"
      ],
      "text/plain": [
       "    acct_no  cont_no gender  bill_cycl serv_type  secured_revenue  tenure  \\\n",
       "0  70171228        2      M          1      VDSL           137.98     216   \n",
       "1  70099932        1    NaN         11       RBS            94.00     219   \n",
       "2  70109566        1    NaN         15       RBS           126.00     221   \n",
       "3  70283270        1      M         15      VDSL            77.00     219   \n",
       "4  70116504        1    NaN         11      VDSL           128.99     221   \n",
       "\n",
       "  churn  contract_end  \n",
       "0     N      202003.0  \n",
       "1     N      202007.0  \n",
       "2     N      202107.0  \n",
       "3     N      202001.0  \n",
       "4     N      202008.0  "
      ]
     },
     "execution_count": 15,
     "metadata": {},
     "output_type": "execute_result"
    }
   ],
   "source": [
    "# Dropping the unnamed column\n",
    "churn_data_df.drop([churn_data_df.columns[0]], axis='columns', inplace = True)\n",
    "churn_data_df.head()"
   ]
  },
  {
   "cell_type": "code",
   "execution_count": 16,
   "metadata": {},
   "outputs": [
    {
     "data": {
      "text/plain": [
       "acct_no                0\n",
       "cont_no                0\n",
       "gender             30346\n",
       "bill_cycl              0\n",
       "serv_type              0\n",
       "secured_revenue    17378\n",
       "tenure                 0\n",
       "churn                  0\n",
       "contract_end       16905\n",
       "dtype: int64"
      ]
     },
     "execution_count": 16,
     "metadata": {},
     "output_type": "execute_result"
    }
   ],
   "source": [
    "# Display null values in the dataset\n",
    "churn_data_df.isna().sum()"
   ]
  },
  {
   "cell_type": "markdown",
   "metadata": {},
   "source": [
    "Gender column has quite a few null values."
   ]
  },
  {
   "cell_type": "code",
   "execution_count": 17,
   "metadata": {},
   "outputs": [],
   "source": [
    "# Handling null values in Gender column \n",
    "churn_data_df = churn_data_df.dropna(axis=0, subset=['gender'])\n"
   ]
  },
  {
   "cell_type": "code",
   "execution_count": 18,
   "metadata": {},
   "outputs": [
    {
     "data": {
      "text/plain": [
       "acct_no               0\n",
       "cont_no               0\n",
       "gender                0\n",
       "bill_cycl             0\n",
       "serv_type             0\n",
       "secured_revenue    6370\n",
       "tenure                0\n",
       "churn                 0\n",
       "contract_end       4967\n",
       "dtype: int64"
      ]
     },
     "execution_count": 18,
     "metadata": {},
     "output_type": "execute_result"
    }
   ],
   "source": [
    "churn_data_df.isna().sum()"
   ]
  },
  {
   "cell_type": "code",
   "execution_count": 19,
   "metadata": {},
   "outputs": [],
   "source": [
    "# Filling NaN values with 0 for secured revenue and contract_end columns\n",
    "churn_data_df['secured_revenue'].fillna(0, inplace=True)\n",
    "churn_data_df['contract_end'].fillna(0, inplace=True)"
   ]
  },
  {
   "cell_type": "code",
   "execution_count": 20,
   "metadata": {},
   "outputs": [
    {
     "data": {
      "text/plain": [
       "acct_no            0\n",
       "cont_no            0\n",
       "gender             0\n",
       "bill_cycl          0\n",
       "serv_type          0\n",
       "secured_revenue    0\n",
       "tenure             0\n",
       "churn              0\n",
       "contract_end       0\n",
       "dtype: int64"
      ]
     },
     "execution_count": 20,
     "metadata": {},
     "output_type": "execute_result"
    }
   ],
   "source": [
    "churn_data_df.isna().sum()"
   ]
  },
  {
   "cell_type": "code",
   "execution_count": 21,
   "metadata": {},
   "outputs": [
    {
     "data": {
      "text/html": [
       "<div>\n",
       "<style scoped>\n",
       "    .dataframe tbody tr th:only-of-type {\n",
       "        vertical-align: middle;\n",
       "    }\n",
       "\n",
       "    .dataframe tbody tr th {\n",
       "        vertical-align: top;\n",
       "    }\n",
       "\n",
       "    .dataframe thead th {\n",
       "        text-align: right;\n",
       "    }\n",
       "</style>\n",
       "<table border=\"1\" class=\"dataframe\">\n",
       "  <thead>\n",
       "    <tr style=\"text-align: right;\">\n",
       "      <th></th>\n",
       "      <th>acct_no</th>\n",
       "      <th>cont_no</th>\n",
       "      <th>gender</th>\n",
       "      <th>bill_cycl</th>\n",
       "      <th>serv_type</th>\n",
       "      <th>secured_revenue</th>\n",
       "      <th>tenure</th>\n",
       "      <th>churn</th>\n",
       "      <th>contract_end</th>\n",
       "    </tr>\n",
       "  </thead>\n",
       "  <tbody>\n",
       "    <tr>\n",
       "      <th>0</th>\n",
       "      <td>70171228</td>\n",
       "      <td>2</td>\n",
       "      <td>M</td>\n",
       "      <td>1</td>\n",
       "      <td>VDSL</td>\n",
       "      <td>137.98</td>\n",
       "      <td>216</td>\n",
       "      <td>N</td>\n",
       "      <td>202003.0</td>\n",
       "    </tr>\n",
       "    <tr>\n",
       "      <th>3</th>\n",
       "      <td>70283270</td>\n",
       "      <td>1</td>\n",
       "      <td>M</td>\n",
       "      <td>15</td>\n",
       "      <td>VDSL</td>\n",
       "      <td>77.00</td>\n",
       "      <td>219</td>\n",
       "      <td>N</td>\n",
       "      <td>202001.0</td>\n",
       "    </tr>\n",
       "    <tr>\n",
       "      <th>5</th>\n",
       "      <td>70032404</td>\n",
       "      <td>1</td>\n",
       "      <td>M</td>\n",
       "      <td>11</td>\n",
       "      <td>RBS</td>\n",
       "      <td>128.34</td>\n",
       "      <td>225</td>\n",
       "      <td>N</td>\n",
       "      <td>202204.0</td>\n",
       "    </tr>\n",
       "    <tr>\n",
       "      <th>6</th>\n",
       "      <td>70195318</td>\n",
       "      <td>1</td>\n",
       "      <td>M</td>\n",
       "      <td>1</td>\n",
       "      <td>RBS</td>\n",
       "      <td>174.00</td>\n",
       "      <td>216</td>\n",
       "      <td>N</td>\n",
       "      <td>202103.0</td>\n",
       "    </tr>\n",
       "    <tr>\n",
       "      <th>8</th>\n",
       "      <td>70224076</td>\n",
       "      <td>1</td>\n",
       "      <td>M</td>\n",
       "      <td>11</td>\n",
       "      <td>VDSL</td>\n",
       "      <td>90.45</td>\n",
       "      <td>220</td>\n",
       "      <td>N</td>\n",
       "      <td>202104.0</td>\n",
       "    </tr>\n",
       "  </tbody>\n",
       "</table>\n",
       "</div>"
      ],
      "text/plain": [
       "    acct_no  cont_no gender  bill_cycl serv_type  secured_revenue  tenure  \\\n",
       "0  70171228        2      M          1      VDSL           137.98     216   \n",
       "3  70283270        1      M         15      VDSL            77.00     219   \n",
       "5  70032404        1      M         11       RBS           128.34     225   \n",
       "6  70195318        1      M          1       RBS           174.00     216   \n",
       "8  70224076        1      M         11      VDSL            90.45     220   \n",
       "\n",
       "  churn  contract_end  \n",
       "0     N      202003.0  \n",
       "3     N      202001.0  \n",
       "5     N      202204.0  \n",
       "6     N      202103.0  \n",
       "8     N      202104.0  "
      ]
     },
     "execution_count": 21,
     "metadata": {},
     "output_type": "execute_result"
    }
   ],
   "source": [
    "churn_data_df.head()"
   ]
  },
  {
   "cell_type": "code",
   "execution_count": 22,
   "metadata": {},
   "outputs": [
    {
     "name": "stdout",
     "output_type": "stream",
     "text": [
      "<class 'pandas.core.frame.DataFrame'>\n",
      "Int64Index: 248059 entries, 0 to 278404\n",
      "Data columns (total 9 columns):\n",
      "acct_no            248059 non-null int64\n",
      "cont_no            248059 non-null int64\n",
      "gender             248059 non-null object\n",
      "bill_cycl          248059 non-null int64\n",
      "serv_type          248059 non-null object\n",
      "secured_revenue    248059 non-null float64\n",
      "tenure             248059 non-null int64\n",
      "churn              248059 non-null object\n",
      "contract_end       248059 non-null float64\n",
      "dtypes: float64(2), int64(4), object(3)\n",
      "memory usage: 18.9+ MB\n"
     ]
    }
   ],
   "source": [
    "churn_data_df.info()"
   ]
  },
  {
   "cell_type": "code",
   "execution_count": 23,
   "metadata": {},
   "outputs": [
    {
     "data": {
      "text/html": [
       "<div>\n",
       "<style scoped>\n",
       "    .dataframe tbody tr th:only-of-type {\n",
       "        vertical-align: middle;\n",
       "    }\n",
       "\n",
       "    .dataframe tbody tr th {\n",
       "        vertical-align: top;\n",
       "    }\n",
       "\n",
       "    .dataframe thead th {\n",
       "        text-align: right;\n",
       "    }\n",
       "</style>\n",
       "<table border=\"1\" class=\"dataframe\">\n",
       "  <thead>\n",
       "    <tr style=\"text-align: right;\">\n",
       "      <th></th>\n",
       "      <th>acct_no</th>\n",
       "      <th>cont_no</th>\n",
       "      <th>bill_cycl</th>\n",
       "      <th>secured_revenue</th>\n",
       "      <th>tenure</th>\n",
       "      <th>contract_end</th>\n",
       "    </tr>\n",
       "  </thead>\n",
       "  <tbody>\n",
       "    <tr>\n",
       "      <th>count</th>\n",
       "      <td>2.480590e+05</td>\n",
       "      <td>248059.000000</td>\n",
       "      <td>248059.000000</td>\n",
       "      <td>248059.000000</td>\n",
       "      <td>248059.000000</td>\n",
       "      <td>248059.000000</td>\n",
       "    </tr>\n",
       "    <tr>\n",
       "      <th>mean</th>\n",
       "      <td>9.149096e+07</td>\n",
       "      <td>1.342975</td>\n",
       "      <td>17.259991</td>\n",
       "      <td>126.275963</td>\n",
       "      <td>67.595310</td>\n",
       "      <td>198028.509661</td>\n",
       "    </tr>\n",
       "    <tr>\n",
       "      <th>std</th>\n",
       "      <td>7.266804e+06</td>\n",
       "      <td>11.249306</td>\n",
       "      <td>7.254002</td>\n",
       "      <td>58.904122</td>\n",
       "      <td>55.084237</td>\n",
       "      <td>28306.876215</td>\n",
       "    </tr>\n",
       "    <tr>\n",
       "      <th>min</th>\n",
       "      <td>7.000274e+07</td>\n",
       "      <td>1.000000</td>\n",
       "      <td>1.000000</td>\n",
       "      <td>0.000000</td>\n",
       "      <td>0.000000</td>\n",
       "      <td>0.000000</td>\n",
       "    </tr>\n",
       "    <tr>\n",
       "      <th>25%</th>\n",
       "      <td>9.191893e+07</td>\n",
       "      <td>1.000000</td>\n",
       "      <td>11.000000</td>\n",
       "      <td>94.000000</td>\n",
       "      <td>20.000000</td>\n",
       "      <td>202007.000000</td>\n",
       "    </tr>\n",
       "    <tr>\n",
       "      <th>50%</th>\n",
       "      <td>9.447447e+07</td>\n",
       "      <td>1.000000</td>\n",
       "      <td>18.000000</td>\n",
       "      <td>120.050000</td>\n",
       "      <td>51.000000</td>\n",
       "      <td>202101.000000</td>\n",
       "    </tr>\n",
       "    <tr>\n",
       "      <th>75%</th>\n",
       "      <td>9.548646e+07</td>\n",
       "      <td>1.000000</td>\n",
       "      <td>25.000000</td>\n",
       "      <td>147.980000</td>\n",
       "      <td>105.000000</td>\n",
       "      <td>202109.000000</td>\n",
       "    </tr>\n",
       "    <tr>\n",
       "      <th>max</th>\n",
       "      <td>9.647528e+07</td>\n",
       "      <td>513.000000</td>\n",
       "      <td>25.000000</td>\n",
       "      <td>2612.000000</td>\n",
       "      <td>230.000000</td>\n",
       "      <td>202305.000000</td>\n",
       "    </tr>\n",
       "  </tbody>\n",
       "</table>\n",
       "</div>"
      ],
      "text/plain": [
       "            acct_no        cont_no      bill_cycl  secured_revenue  \\\n",
       "count  2.480590e+05  248059.000000  248059.000000    248059.000000   \n",
       "mean   9.149096e+07       1.342975      17.259991       126.275963   \n",
       "std    7.266804e+06      11.249306       7.254002        58.904122   \n",
       "min    7.000274e+07       1.000000       1.000000         0.000000   \n",
       "25%    9.191893e+07       1.000000      11.000000        94.000000   \n",
       "50%    9.447447e+07       1.000000      18.000000       120.050000   \n",
       "75%    9.548646e+07       1.000000      25.000000       147.980000   \n",
       "max    9.647528e+07     513.000000      25.000000      2612.000000   \n",
       "\n",
       "              tenure   contract_end  \n",
       "count  248059.000000  248059.000000  \n",
       "mean       67.595310  198028.509661  \n",
       "std        55.084237   28306.876215  \n",
       "min         0.000000       0.000000  \n",
       "25%        20.000000  202007.000000  \n",
       "50%        51.000000  202101.000000  \n",
       "75%       105.000000  202109.000000  \n",
       "max       230.000000  202305.000000  "
      ]
     },
     "execution_count": 23,
     "metadata": {},
     "output_type": "execute_result"
    }
   ],
   "source": [
    "churn_data_df.describe()"
   ]
  },
  {
   "cell_type": "code",
   "execution_count": 24,
   "metadata": {},
   "outputs": [
    {
     "data": {
      "text/html": [
       "<div>\n",
       "<style scoped>\n",
       "    .dataframe tbody tr th:only-of-type {\n",
       "        vertical-align: middle;\n",
       "    }\n",
       "\n",
       "    .dataframe tbody tr th {\n",
       "        vertical-align: top;\n",
       "    }\n",
       "\n",
       "    .dataframe thead th {\n",
       "        text-align: right;\n",
       "    }\n",
       "</style>\n",
       "<table border=\"1\" class=\"dataframe\">\n",
       "  <thead>\n",
       "    <tr style=\"text-align: right;\">\n",
       "      <th></th>\n",
       "      <th>acct_no</th>\n",
       "      <th>cont_no</th>\n",
       "      <th>gender</th>\n",
       "      <th>bill_cycl</th>\n",
       "      <th>serv_type</th>\n",
       "      <th>secured_revenue</th>\n",
       "      <th>tenure</th>\n",
       "      <th>churn</th>\n",
       "      <th>contract_end</th>\n",
       "    </tr>\n",
       "  </thead>\n",
       "  <tbody>\n",
       "    <tr>\n",
       "      <th>0</th>\n",
       "      <td>70171228</td>\n",
       "      <td>2</td>\n",
       "      <td>M</td>\n",
       "      <td>1</td>\n",
       "      <td>VDSL</td>\n",
       "      <td>137.98</td>\n",
       "      <td>216</td>\n",
       "      <td>N</td>\n",
       "      <td>202003.0</td>\n",
       "    </tr>\n",
       "    <tr>\n",
       "      <th>3</th>\n",
       "      <td>70283270</td>\n",
       "      <td>1</td>\n",
       "      <td>M</td>\n",
       "      <td>15</td>\n",
       "      <td>VDSL</td>\n",
       "      <td>77.00</td>\n",
       "      <td>219</td>\n",
       "      <td>N</td>\n",
       "      <td>202001.0</td>\n",
       "    </tr>\n",
       "    <tr>\n",
       "      <th>5</th>\n",
       "      <td>70032404</td>\n",
       "      <td>1</td>\n",
       "      <td>M</td>\n",
       "      <td>11</td>\n",
       "      <td>RBS</td>\n",
       "      <td>128.34</td>\n",
       "      <td>225</td>\n",
       "      <td>N</td>\n",
       "      <td>202204.0</td>\n",
       "    </tr>\n",
       "    <tr>\n",
       "      <th>6</th>\n",
       "      <td>70195318</td>\n",
       "      <td>1</td>\n",
       "      <td>M</td>\n",
       "      <td>1</td>\n",
       "      <td>RBS</td>\n",
       "      <td>174.00</td>\n",
       "      <td>216</td>\n",
       "      <td>N</td>\n",
       "      <td>202103.0</td>\n",
       "    </tr>\n",
       "    <tr>\n",
       "      <th>8</th>\n",
       "      <td>70224076</td>\n",
       "      <td>1</td>\n",
       "      <td>M</td>\n",
       "      <td>11</td>\n",
       "      <td>VDSL</td>\n",
       "      <td>90.45</td>\n",
       "      <td>220</td>\n",
       "      <td>N</td>\n",
       "      <td>202104.0</td>\n",
       "    </tr>\n",
       "  </tbody>\n",
       "</table>\n",
       "</div>"
      ],
      "text/plain": [
       "    acct_no  cont_no gender  bill_cycl serv_type  secured_revenue  tenure  \\\n",
       "0  70171228        2      M          1      VDSL           137.98     216   \n",
       "3  70283270        1      M         15      VDSL            77.00     219   \n",
       "5  70032404        1      M         11       RBS           128.34     225   \n",
       "6  70195318        1      M          1       RBS           174.00     216   \n",
       "8  70224076        1      M         11      VDSL            90.45     220   \n",
       "\n",
       "  churn  contract_end  \n",
       "0     N      202003.0  \n",
       "3     N      202001.0  \n",
       "5     N      202204.0  \n",
       "6     N      202103.0  \n",
       "8     N      202104.0  "
      ]
     },
     "execution_count": 24,
     "metadata": {},
     "output_type": "execute_result"
    }
   ],
   "source": [
    "churn_data_df.head()"
   ]
  },
  {
   "cell_type": "code",
   "execution_count": 25,
   "metadata": {},
   "outputs": [
    {
     "data": {
      "text/plain": [
       "N    246795\n",
       "Y      1264\n",
       "Name: churn, dtype: int64"
      ]
     },
     "execution_count": 25,
     "metadata": {},
     "output_type": "execute_result"
    }
   ],
   "source": [
    "churn_data_df.churn.value_counts()"
   ]
  },
  {
   "cell_type": "markdown",
   "metadata": {},
   "source": [
    "Dataset has more Churn = 'N' rows when compared to Churn = 'Y'. Clearly we have imbalanced data. Model created with this will be biased"
   ]
  },
  {
   "cell_type": "code",
   "execution_count": 26,
   "metadata": {},
   "outputs": [
    {
     "data": {
      "text/html": [
       "<div>\n",
       "<style scoped>\n",
       "    .dataframe tbody tr th:only-of-type {\n",
       "        vertical-align: middle;\n",
       "    }\n",
       "\n",
       "    .dataframe tbody tr th {\n",
       "        vertical-align: top;\n",
       "    }\n",
       "\n",
       "    .dataframe thead th {\n",
       "        text-align: right;\n",
       "    }\n",
       "</style>\n",
       "<table border=\"1\" class=\"dataframe\">\n",
       "  <thead>\n",
       "    <tr style=\"text-align: right;\">\n",
       "      <th></th>\n",
       "      <th>gender</th>\n",
       "      <th>serv_type</th>\n",
       "      <th>churn</th>\n",
       "    </tr>\n",
       "  </thead>\n",
       "  <tbody>\n",
       "    <tr>\n",
       "      <th>0</th>\n",
       "      <td>M</td>\n",
       "      <td>VDSL</td>\n",
       "      <td>N</td>\n",
       "    </tr>\n",
       "    <tr>\n",
       "      <th>3</th>\n",
       "      <td>M</td>\n",
       "      <td>VDSL</td>\n",
       "      <td>N</td>\n",
       "    </tr>\n",
       "    <tr>\n",
       "      <th>5</th>\n",
       "      <td>M</td>\n",
       "      <td>RBS</td>\n",
       "      <td>N</td>\n",
       "    </tr>\n",
       "    <tr>\n",
       "      <th>6</th>\n",
       "      <td>M</td>\n",
       "      <td>RBS</td>\n",
       "      <td>N</td>\n",
       "    </tr>\n",
       "    <tr>\n",
       "      <th>8</th>\n",
       "      <td>M</td>\n",
       "      <td>VDSL</td>\n",
       "      <td>N</td>\n",
       "    </tr>\n",
       "  </tbody>\n",
       "</table>\n",
       "</div>"
      ],
      "text/plain": [
       "  gender serv_type churn\n",
       "0      M      VDSL     N\n",
       "3      M      VDSL     N\n",
       "5      M       RBS     N\n",
       "6      M       RBS     N\n",
       "8      M      VDSL     N"
      ]
     },
     "execution_count": 26,
     "metadata": {},
     "output_type": "execute_result"
    }
   ],
   "source": [
    "# Taking categorical columns\n",
    "churn_cat_df = churn_data_df[['gender', 'serv_type', 'churn']]\n",
    "churn_cat_df.head()"
   ]
  },
  {
   "cell_type": "code",
   "execution_count": 27,
   "metadata": {},
   "outputs": [],
   "source": [
    "# Feature Engineering\n",
    "# Creating dummy columns for categorical values \n",
    "churn_catcols = pd.get_dummies(churn_cat_df )"
   ]
  },
  {
   "cell_type": "code",
   "execution_count": 28,
   "metadata": {},
   "outputs": [
    {
     "data": {
      "text/html": [
       "<div>\n",
       "<style scoped>\n",
       "    .dataframe tbody tr th:only-of-type {\n",
       "        vertical-align: middle;\n",
       "    }\n",
       "\n",
       "    .dataframe tbody tr th {\n",
       "        vertical-align: top;\n",
       "    }\n",
       "\n",
       "    .dataframe thead th {\n",
       "        text-align: right;\n",
       "    }\n",
       "</style>\n",
       "<table border=\"1\" class=\"dataframe\">\n",
       "  <thead>\n",
       "    <tr style=\"text-align: right;\">\n",
       "      <th></th>\n",
       "      <th>gender_F</th>\n",
       "      <th>gender_M</th>\n",
       "      <th>serv_type_ADSL</th>\n",
       "      <th>serv_type_RBS</th>\n",
       "      <th>serv_type_VDSL</th>\n",
       "      <th>churn_N</th>\n",
       "    </tr>\n",
       "  </thead>\n",
       "  <tbody>\n",
       "    <tr>\n",
       "      <th>0</th>\n",
       "      <td>0</td>\n",
       "      <td>1</td>\n",
       "      <td>0</td>\n",
       "      <td>0</td>\n",
       "      <td>1</td>\n",
       "      <td>1</td>\n",
       "    </tr>\n",
       "    <tr>\n",
       "      <th>3</th>\n",
       "      <td>0</td>\n",
       "      <td>1</td>\n",
       "      <td>0</td>\n",
       "      <td>0</td>\n",
       "      <td>1</td>\n",
       "      <td>1</td>\n",
       "    </tr>\n",
       "    <tr>\n",
       "      <th>5</th>\n",
       "      <td>0</td>\n",
       "      <td>1</td>\n",
       "      <td>0</td>\n",
       "      <td>1</td>\n",
       "      <td>0</td>\n",
       "      <td>1</td>\n",
       "    </tr>\n",
       "    <tr>\n",
       "      <th>6</th>\n",
       "      <td>0</td>\n",
       "      <td>1</td>\n",
       "      <td>0</td>\n",
       "      <td>1</td>\n",
       "      <td>0</td>\n",
       "      <td>1</td>\n",
       "    </tr>\n",
       "    <tr>\n",
       "      <th>8</th>\n",
       "      <td>0</td>\n",
       "      <td>1</td>\n",
       "      <td>0</td>\n",
       "      <td>0</td>\n",
       "      <td>1</td>\n",
       "      <td>1</td>\n",
       "    </tr>\n",
       "  </tbody>\n",
       "</table>\n",
       "</div>"
      ],
      "text/plain": [
       "   gender_F  gender_M  serv_type_ADSL  serv_type_RBS  serv_type_VDSL  churn_N\n",
       "0         0         1               0              0               1        1\n",
       "3         0         1               0              0               1        1\n",
       "5         0         1               0              1               0        1\n",
       "6         0         1               0              1               0        1\n",
       "8         0         1               0              0               1        1"
      ]
     },
     "execution_count": 28,
     "metadata": {},
     "output_type": "execute_result"
    }
   ],
   "source": [
    "# When dummy columns are created, we can drop Churn_Y\n",
    "churn_catcols.drop(['churn_Y'], axis = 1, inplace = True)\n",
    "churn_catcols.head()"
   ]
  },
  {
   "cell_type": "code",
   "execution_count": 29,
   "metadata": {},
   "outputs": [
    {
     "data": {
      "text/html": [
       "<div>\n",
       "<style scoped>\n",
       "    .dataframe tbody tr th:only-of-type {\n",
       "        vertical-align: middle;\n",
       "    }\n",
       "\n",
       "    .dataframe tbody tr th {\n",
       "        vertical-align: top;\n",
       "    }\n",
       "\n",
       "    .dataframe thead th {\n",
       "        text-align: right;\n",
       "    }\n",
       "</style>\n",
       "<table border=\"1\" class=\"dataframe\">\n",
       "  <thead>\n",
       "    <tr style=\"text-align: right;\">\n",
       "      <th></th>\n",
       "      <th>gender_M</th>\n",
       "      <th>serv_type_RBS</th>\n",
       "      <th>serv_type_VDSL</th>\n",
       "      <th>churn_N</th>\n",
       "    </tr>\n",
       "  </thead>\n",
       "  <tbody>\n",
       "    <tr>\n",
       "      <th>0</th>\n",
       "      <td>1</td>\n",
       "      <td>0</td>\n",
       "      <td>1</td>\n",
       "      <td>1</td>\n",
       "    </tr>\n",
       "    <tr>\n",
       "      <th>3</th>\n",
       "      <td>1</td>\n",
       "      <td>0</td>\n",
       "      <td>1</td>\n",
       "      <td>1</td>\n",
       "    </tr>\n",
       "    <tr>\n",
       "      <th>5</th>\n",
       "      <td>1</td>\n",
       "      <td>1</td>\n",
       "      <td>0</td>\n",
       "      <td>1</td>\n",
       "    </tr>\n",
       "    <tr>\n",
       "      <th>6</th>\n",
       "      <td>1</td>\n",
       "      <td>1</td>\n",
       "      <td>0</td>\n",
       "      <td>1</td>\n",
       "    </tr>\n",
       "    <tr>\n",
       "      <th>8</th>\n",
       "      <td>1</td>\n",
       "      <td>0</td>\n",
       "      <td>1</td>\n",
       "      <td>1</td>\n",
       "    </tr>\n",
       "  </tbody>\n",
       "</table>\n",
       "</div>"
      ],
      "text/plain": [
       "   gender_M  serv_type_RBS  serv_type_VDSL  churn_N\n",
       "0         1              0               1        1\n",
       "3         1              0               1        1\n",
       "5         1              1               0        1\n",
       "6         1              1               0        1\n",
       "8         1              0               1        1"
      ]
     },
     "execution_count": 29,
     "metadata": {},
     "output_type": "execute_result"
    }
   ],
   "source": [
    "# When dummy columns are created, we can drop gender_F\n",
    "churn_catcols.drop(['gender_F'], axis = 1, inplace = True)\n",
    "churn_catcols.drop(['serv_type_ADSL'], axis = 1, inplace = True)\n",
    "churn_catcols.head()"
   ]
  },
  {
   "cell_type": "code",
   "execution_count": 30,
   "metadata": {},
   "outputs": [],
   "source": [
    "# When dummy columns are created, we can drop gender, serv_type and churn columns from the dataframe\n",
    "num_df = churn_data_df.drop(['acct_no','cont_no','gender','serv_type','churn'], axis = 1)"
   ]
  },
  {
   "cell_type": "code",
   "execution_count": 31,
   "metadata": {},
   "outputs": [],
   "source": [
    "churn_data_imbalanced_df = pd.concat([num_df, churn_catcols], axis = 1)"
   ]
  },
  {
   "cell_type": "code",
   "execution_count": 32,
   "metadata": {},
   "outputs": [
    {
     "data": {
      "text/html": [
       "<div>\n",
       "<style scoped>\n",
       "    .dataframe tbody tr th:only-of-type {\n",
       "        vertical-align: middle;\n",
       "    }\n",
       "\n",
       "    .dataframe tbody tr th {\n",
       "        vertical-align: top;\n",
       "    }\n",
       "\n",
       "    .dataframe thead th {\n",
       "        text-align: right;\n",
       "    }\n",
       "</style>\n",
       "<table border=\"1\" class=\"dataframe\">\n",
       "  <thead>\n",
       "    <tr style=\"text-align: right;\">\n",
       "      <th></th>\n",
       "      <th>bill_cycl</th>\n",
       "      <th>secured_revenue</th>\n",
       "      <th>tenure</th>\n",
       "      <th>contract_end</th>\n",
       "      <th>gender_M</th>\n",
       "      <th>serv_type_RBS</th>\n",
       "      <th>serv_type_VDSL</th>\n",
       "      <th>churn_N</th>\n",
       "    </tr>\n",
       "  </thead>\n",
       "  <tbody>\n",
       "    <tr>\n",
       "      <th>0</th>\n",
       "      <td>1</td>\n",
       "      <td>137.98</td>\n",
       "      <td>216</td>\n",
       "      <td>202003.0</td>\n",
       "      <td>1</td>\n",
       "      <td>0</td>\n",
       "      <td>1</td>\n",
       "      <td>1</td>\n",
       "    </tr>\n",
       "    <tr>\n",
       "      <th>3</th>\n",
       "      <td>15</td>\n",
       "      <td>77.00</td>\n",
       "      <td>219</td>\n",
       "      <td>202001.0</td>\n",
       "      <td>1</td>\n",
       "      <td>0</td>\n",
       "      <td>1</td>\n",
       "      <td>1</td>\n",
       "    </tr>\n",
       "    <tr>\n",
       "      <th>5</th>\n",
       "      <td>11</td>\n",
       "      <td>128.34</td>\n",
       "      <td>225</td>\n",
       "      <td>202204.0</td>\n",
       "      <td>1</td>\n",
       "      <td>1</td>\n",
       "      <td>0</td>\n",
       "      <td>1</td>\n",
       "    </tr>\n",
       "    <tr>\n",
       "      <th>6</th>\n",
       "      <td>1</td>\n",
       "      <td>174.00</td>\n",
       "      <td>216</td>\n",
       "      <td>202103.0</td>\n",
       "      <td>1</td>\n",
       "      <td>1</td>\n",
       "      <td>0</td>\n",
       "      <td>1</td>\n",
       "    </tr>\n",
       "    <tr>\n",
       "      <th>8</th>\n",
       "      <td>11</td>\n",
       "      <td>90.45</td>\n",
       "      <td>220</td>\n",
       "      <td>202104.0</td>\n",
       "      <td>1</td>\n",
       "      <td>0</td>\n",
       "      <td>1</td>\n",
       "      <td>1</td>\n",
       "    </tr>\n",
       "  </tbody>\n",
       "</table>\n",
       "</div>"
      ],
      "text/plain": [
       "   bill_cycl  secured_revenue  tenure  contract_end  gender_M  serv_type_RBS  \\\n",
       "0          1           137.98     216      202003.0         1              0   \n",
       "3         15            77.00     219      202001.0         1              0   \n",
       "5         11           128.34     225      202204.0         1              1   \n",
       "6          1           174.00     216      202103.0         1              1   \n",
       "8         11            90.45     220      202104.0         1              0   \n",
       "\n",
       "   serv_type_VDSL  churn_N  \n",
       "0               1        1  \n",
       "3               1        1  \n",
       "5               0        1  \n",
       "6               0        1  \n",
       "8               1        1  "
      ]
     },
     "execution_count": 32,
     "metadata": {},
     "output_type": "execute_result"
    }
   ],
   "source": [
    "churn_data_imbalanced_df.head()"
   ]
  },
  {
   "cell_type": "code",
   "execution_count": 33,
   "metadata": {},
   "outputs": [],
   "source": [
    "# Create Logistic Regression model\n",
    "y = churn_data_imbalanced_df[\"churn_N\"].values\n",
    "\n",
    "X = churn_data_imbalanced_df.drop(['churn_N'], axis=1)"
   ]
  },
  {
   "cell_type": "code",
   "execution_count": 34,
   "metadata": {},
   "outputs": [
    {
     "name": "stdout",
     "output_type": "stream",
     "text": [
      "[[ 2.08776252e-02 -1.80560377e-04  6.91818823e-03  1.17305366e-04\n",
      "   1.15044220e-03  1.22260089e-03 -7.68915273e-05]]\n",
      "[0.00115044]\n"
     ]
    }
   ],
   "source": [
    "from sklearn.linear_model import LogisticRegression\n",
    "from sklearn import metrics\n",
    "logreg = LogisticRegression()\n",
    "logreg.fit(X, y)\n",
    "print(logreg.coef_)\n",
    "print(logreg.intercept_)\n"
   ]
  },
  {
   "cell_type": "code",
   "execution_count": 35,
   "metadata": {},
   "outputs": [],
   "source": [
    "from sklearn.model_selection import train_test_split\n",
    "xTrain, xTest, yTrain, yTest = train_test_split(X, y, test_size=0.30, random_state=12345)"
   ]
  },
  {
   "cell_type": "code",
   "execution_count": 36,
   "metadata": {},
   "outputs": [
    {
     "data": {
      "text/plain": [
       "LogisticRegression(C=1.0, class_weight=None, dual=False, fit_intercept=True,\n",
       "          intercept_scaling=1, max_iter=100, multi_class='ovr', n_jobs=1,\n",
       "          penalty='l2', random_state=None, solver='liblinear', tol=0.0001,\n",
       "          verbose=0, warm_start=False)"
      ]
     },
     "execution_count": 36,
     "metadata": {},
     "output_type": "execute_result"
    }
   ],
   "source": [
    "logreg.fit(xTrain, yTrain)"
   ]
  },
  {
   "cell_type": "code",
   "execution_count": 37,
   "metadata": {},
   "outputs": [],
   "source": [
    "y_pred_test = logreg.predict(xTest)"
   ]
  },
  {
   "cell_type": "code",
   "execution_count": 38,
   "metadata": {},
   "outputs": [
    {
     "name": "stdout",
     "output_type": "stream",
     "text": [
      "0.9947727700287565\n",
      "1.0\n"
     ]
    }
   ],
   "source": [
    "print(metrics.accuracy_score(yTest, y_pred_test))\n",
    "print(metrics.recall_score(yTest, y_pred_test))"
   ]
  },
  {
   "cell_type": "code",
   "execution_count": 39,
   "metadata": {},
   "outputs": [
    {
     "data": {
      "text/plain": [
       "array([[    0,   389],\n",
       "       [    0, 74029]], dtype=int64)"
      ]
     },
     "execution_count": 39,
     "metadata": {},
     "output_type": "execute_result"
    }
   ],
   "source": [
    "conf = metrics.confusion_matrix(yTest, y_pred_test)\n",
    "conf"
   ]
  },
  {
   "cell_type": "code",
   "execution_count": 40,
   "metadata": {},
   "outputs": [
    {
     "name": "stdout",
     "output_type": "stream",
     "text": [
      "             precision    recall  f1-score   support\n",
      "\n",
      "          0       0.00      0.00      0.00       389\n",
      "          1       0.99      1.00      1.00     74029\n",
      "\n",
      "avg / total       0.99      0.99      0.99     74418\n",
      "\n"
     ]
    },
    {
     "name": "stderr",
     "output_type": "stream",
     "text": [
      "C:\\Users\\premy_unni\\AppData\\Local\\Continuum\\anaconda3\\lib\\site-packages\\sklearn\\metrics\\classification.py:1135: UndefinedMetricWarning: Precision and F-score are ill-defined and being set to 0.0 in labels with no predicted samples.\n",
      "  'precision', 'predicted', average, warn_for)\n"
     ]
    }
   ],
   "source": [
    "from sklearn.metrics import classification_report\n",
    "\n",
    "print(classification_report(yTest, y_pred_test))"
   ]
  },
  {
   "cell_type": "markdown",
   "metadata": {},
   "source": [
    "Will try Undersampling the dataset"
   ]
  },
  {
   "cell_type": "code",
   "execution_count": 41,
   "metadata": {},
   "outputs": [],
   "source": [
    "churn = len(churn_data_df[churn_data_df['churn'] == 'Y'])"
   ]
  },
  {
   "cell_type": "code",
   "execution_count": 42,
   "metadata": {},
   "outputs": [],
   "source": [
    "# Get indices of non churn data\n",
    "non_churn_indices = churn_data_df[churn_data_df.churn == 'N'].index"
   ]
  },
  {
   "cell_type": "code",
   "execution_count": 43,
   "metadata": {},
   "outputs": [],
   "source": [
    "# Random sample of non churn data\n",
    "random_indices = np.random.choice(non_churn_indices,churn, replace=False)"
   ]
  },
  {
   "cell_type": "code",
   "execution_count": 44,
   "metadata": {},
   "outputs": [],
   "source": [
    "# Find indices of churn data\n",
    "churn_indices = churn_data_df[churn_data_df.churn == 'Y'].index"
   ]
  },
  {
   "cell_type": "code",
   "execution_count": 45,
   "metadata": {},
   "outputs": [],
   "source": [
    "under_sample_indices = np.concatenate([churn_indices,random_indices])"
   ]
  },
  {
   "cell_type": "code",
   "execution_count": 46,
   "metadata": {},
   "outputs": [],
   "source": [
    "churn_under_sample = churn_data_df.loc[under_sample_indices]"
   ]
  },
  {
   "cell_type": "code",
   "execution_count": 47,
   "metadata": {},
   "outputs": [
    {
     "data": {
      "text/html": [
       "<div>\n",
       "<style scoped>\n",
       "    .dataframe tbody tr th:only-of-type {\n",
       "        vertical-align: middle;\n",
       "    }\n",
       "\n",
       "    .dataframe tbody tr th {\n",
       "        vertical-align: top;\n",
       "    }\n",
       "\n",
       "    .dataframe thead th {\n",
       "        text-align: right;\n",
       "    }\n",
       "</style>\n",
       "<table border=\"1\" class=\"dataframe\">\n",
       "  <thead>\n",
       "    <tr style=\"text-align: right;\">\n",
       "      <th></th>\n",
       "      <th>acct_no</th>\n",
       "      <th>cont_no</th>\n",
       "      <th>gender</th>\n",
       "      <th>bill_cycl</th>\n",
       "      <th>serv_type</th>\n",
       "      <th>secured_revenue</th>\n",
       "      <th>tenure</th>\n",
       "      <th>churn</th>\n",
       "      <th>contract_end</th>\n",
       "    </tr>\n",
       "  </thead>\n",
       "  <tbody>\n",
       "    <tr>\n",
       "      <th>567</th>\n",
       "      <td>72760739</td>\n",
       "      <td>1</td>\n",
       "      <td>M</td>\n",
       "      <td>11</td>\n",
       "      <td>VDSL</td>\n",
       "      <td>69.0</td>\n",
       "      <td>172</td>\n",
       "      <td>Y</td>\n",
       "      <td>0.0</td>\n",
       "    </tr>\n",
       "    <tr>\n",
       "      <th>575</th>\n",
       "      <td>72863400</td>\n",
       "      <td>1</td>\n",
       "      <td>M</td>\n",
       "      <td>15</td>\n",
       "      <td>RBS</td>\n",
       "      <td>169.0</td>\n",
       "      <td>182</td>\n",
       "      <td>Y</td>\n",
       "      <td>0.0</td>\n",
       "    </tr>\n",
       "    <tr>\n",
       "      <th>618</th>\n",
       "      <td>72817273</td>\n",
       "      <td>1</td>\n",
       "      <td>M</td>\n",
       "      <td>1</td>\n",
       "      <td>RBS</td>\n",
       "      <td>269.0</td>\n",
       "      <td>183</td>\n",
       "      <td>Y</td>\n",
       "      <td>0.0</td>\n",
       "    </tr>\n",
       "    <tr>\n",
       "      <th>813</th>\n",
       "      <td>73797581</td>\n",
       "      <td>1</td>\n",
       "      <td>M</td>\n",
       "      <td>11</td>\n",
       "      <td>RBS</td>\n",
       "      <td>269.0</td>\n",
       "      <td>170</td>\n",
       "      <td>Y</td>\n",
       "      <td>0.0</td>\n",
       "    </tr>\n",
       "    <tr>\n",
       "      <th>893</th>\n",
       "      <td>74028879</td>\n",
       "      <td>1</td>\n",
       "      <td>M</td>\n",
       "      <td>1</td>\n",
       "      <td>RBS</td>\n",
       "      <td>169.0</td>\n",
       "      <td>168</td>\n",
       "      <td>Y</td>\n",
       "      <td>0.0</td>\n",
       "    </tr>\n",
       "  </tbody>\n",
       "</table>\n",
       "</div>"
      ],
      "text/plain": [
       "      acct_no  cont_no gender  bill_cycl serv_type  secured_revenue  tenure  \\\n",
       "567  72760739        1      M         11      VDSL             69.0     172   \n",
       "575  72863400        1      M         15       RBS            169.0     182   \n",
       "618  72817273        1      M          1       RBS            269.0     183   \n",
       "813  73797581        1      M         11       RBS            269.0     170   \n",
       "893  74028879        1      M          1       RBS            169.0     168   \n",
       "\n",
       "    churn  contract_end  \n",
       "567     Y           0.0  \n",
       "575     Y           0.0  \n",
       "618     Y           0.0  \n",
       "813     Y           0.0  \n",
       "893     Y           0.0  "
      ]
     },
     "execution_count": 47,
     "metadata": {},
     "output_type": "execute_result"
    }
   ],
   "source": [
    "churn_under_sample.head()"
   ]
  },
  {
   "cell_type": "code",
   "execution_count": 48,
   "metadata": {},
   "outputs": [
    {
     "data": {
      "text/plain": [
       "Y    1264\n",
       "N    1264\n",
       "Name: churn, dtype: int64"
      ]
     },
     "execution_count": 48,
     "metadata": {},
     "output_type": "execute_result"
    }
   ],
   "source": [
    "churn_under_sample.churn.value_counts()"
   ]
  },
  {
   "cell_type": "code",
   "execution_count": 49,
   "metadata": {},
   "outputs": [
    {
     "data": {
      "image/png": "[encoded data removed]",
      "text/plain": [
       "<matplotlib.figure.Figure at 0x1b3a765d940>"
      ]
     },
     "metadata": {},
     "output_type": "display_data"
    }
   ],
   "source": [
    "sns.factorplot(x='gender', col='churn', kind='count', data=churn_under_sample);"
   ]
  },
  {
   "cell_type": "code",
   "execution_count": 50,
   "metadata": {},
   "outputs": [
    {
     "data": {
      "image/png": "[encoded data removed]",
      "text/plain": [
       "<matplotlib.figure.Figure at 0x1b3a7b17e10>"
      ]
     },
     "metadata": {},
     "output_type": "display_data"
    }
   ],
   "source": [
    "sns.factorplot(x='serv_type', col='churn', kind='count', data=churn_under_sample);"
   ]
  },
  {
   "cell_type": "code",
   "execution_count": 51,
   "metadata": {},
   "outputs": [
    {
     "data": {
      "text/html": [
       "<div>\n",
       "<style scoped>\n",
       "    .dataframe tbody tr th:only-of-type {\n",
       "        vertical-align: middle;\n",
       "    }\n",
       "\n",
       "    .dataframe tbody tr th {\n",
       "        vertical-align: top;\n",
       "    }\n",
       "\n",
       "    .dataframe thead th {\n",
       "        text-align: right;\n",
       "    }\n",
       "</style>\n",
       "<table border=\"1\" class=\"dataframe\">\n",
       "  <thead>\n",
       "    <tr style=\"text-align: right;\">\n",
       "      <th></th>\n",
       "      <th>gender</th>\n",
       "      <th>serv_type</th>\n",
       "      <th>churn</th>\n",
       "    </tr>\n",
       "  </thead>\n",
       "  <tbody>\n",
       "    <tr>\n",
       "      <th>567</th>\n",
       "      <td>M</td>\n",
       "      <td>VDSL</td>\n",
       "      <td>Y</td>\n",
       "    </tr>\n",
       "    <tr>\n",
       "      <th>575</th>\n",
       "      <td>M</td>\n",
       "      <td>RBS</td>\n",
       "      <td>Y</td>\n",
       "    </tr>\n",
       "    <tr>\n",
       "      <th>618</th>\n",
       "      <td>M</td>\n",
       "      <td>RBS</td>\n",
       "      <td>Y</td>\n",
       "    </tr>\n",
       "    <tr>\n",
       "      <th>813</th>\n",
       "      <td>M</td>\n",
       "      <td>RBS</td>\n",
       "      <td>Y</td>\n",
       "    </tr>\n",
       "    <tr>\n",
       "      <th>893</th>\n",
       "      <td>M</td>\n",
       "      <td>RBS</td>\n",
       "      <td>Y</td>\n",
       "    </tr>\n",
       "  </tbody>\n",
       "</table>\n",
       "</div>"
      ],
      "text/plain": [
       "    gender serv_type churn\n",
       "567      M      VDSL     Y\n",
       "575      M       RBS     Y\n",
       "618      M       RBS     Y\n",
       "813      M       RBS     Y\n",
       "893      M       RBS     Y"
      ]
     },
     "execution_count": 51,
     "metadata": {},
     "output_type": "execute_result"
    }
   ],
   "source": [
    "# Taking categorical columns\n",
    "churn_cat_under_df = churn_under_sample[['gender', 'serv_type', 'churn']]\n",
    "churn_cat_under_df.head()"
   ]
  },
  {
   "cell_type": "code",
   "execution_count": 52,
   "metadata": {},
   "outputs": [
    {
     "data": {
      "text/html": [
       "<div>\n",
       "<style scoped>\n",
       "    .dataframe tbody tr th:only-of-type {\n",
       "        vertical-align: middle;\n",
       "    }\n",
       "\n",
       "    .dataframe tbody tr th {\n",
       "        vertical-align: top;\n",
       "    }\n",
       "\n",
       "    .dataframe thead th {\n",
       "        text-align: right;\n",
       "    }\n",
       "</style>\n",
       "<table border=\"1\" class=\"dataframe\">\n",
       "  <thead>\n",
       "    <tr style=\"text-align: right;\">\n",
       "      <th></th>\n",
       "      <th>gender_M</th>\n",
       "      <th>serv_type_RBS</th>\n",
       "      <th>serv_type_VDSL</th>\n",
       "      <th>churn_N</th>\n",
       "      <th>churn_Y</th>\n",
       "    </tr>\n",
       "  </thead>\n",
       "  <tbody>\n",
       "    <tr>\n",
       "      <th>41669</th>\n",
       "      <td>1</td>\n",
       "      <td>1</td>\n",
       "      <td>0</td>\n",
       "      <td>1</td>\n",
       "      <td>0</td>\n",
       "    </tr>\n",
       "    <tr>\n",
       "      <th>81245</th>\n",
       "      <td>1</td>\n",
       "      <td>1</td>\n",
       "      <td>0</td>\n",
       "      <td>1</td>\n",
       "      <td>0</td>\n",
       "    </tr>\n",
       "    <tr>\n",
       "      <th>188458</th>\n",
       "      <td>1</td>\n",
       "      <td>0</td>\n",
       "      <td>1</td>\n",
       "      <td>1</td>\n",
       "      <td>0</td>\n",
       "    </tr>\n",
       "    <tr>\n",
       "      <th>262988</th>\n",
       "      <td>1</td>\n",
       "      <td>1</td>\n",
       "      <td>0</td>\n",
       "      <td>1</td>\n",
       "      <td>0</td>\n",
       "    </tr>\n",
       "    <tr>\n",
       "      <th>67904</th>\n",
       "      <td>1</td>\n",
       "      <td>1</td>\n",
       "      <td>0</td>\n",
       "      <td>1</td>\n",
       "      <td>0</td>\n",
       "    </tr>\n",
       "  </tbody>\n",
       "</table>\n",
       "</div>"
      ],
      "text/plain": [
       "        gender_M  serv_type_RBS  serv_type_VDSL  churn_N  churn_Y\n",
       "41669          1              1               0        1        0\n",
       "81245          1              1               0        1        0\n",
       "188458         1              0               1        1        0\n",
       "262988         1              1               0        1        0\n",
       "67904          1              1               0        1        0"
      ]
     },
     "execution_count": 52,
     "metadata": {},
     "output_type": "execute_result"
    }
   ],
   "source": [
    "# Creating dummy columns for categorical values \n",
    "churn_catcols_under = pd.get_dummies(churn_cat_under_df )\n",
    "churn_catcols_under.tail()"
   ]
  },
  {
   "cell_type": "code",
   "execution_count": 53,
   "metadata": {},
   "outputs": [
    {
     "data": {
      "text/html": [
       "<div>\n",
       "<style scoped>\n",
       "    .dataframe tbody tr th:only-of-type {\n",
       "        vertical-align: middle;\n",
       "    }\n",
       "\n",
       "    .dataframe tbody tr th {\n",
       "        vertical-align: top;\n",
       "    }\n",
       "\n",
       "    .dataframe thead th {\n",
       "        text-align: right;\n",
       "    }\n",
       "</style>\n",
       "<table border=\"1\" class=\"dataframe\">\n",
       "  <thead>\n",
       "    <tr style=\"text-align: right;\">\n",
       "      <th></th>\n",
       "      <th>gender_M</th>\n",
       "      <th>serv_type_RBS</th>\n",
       "      <th>serv_type_VDSL</th>\n",
       "      <th>churn_N</th>\n",
       "    </tr>\n",
       "  </thead>\n",
       "  <tbody>\n",
       "    <tr>\n",
       "      <th>567</th>\n",
       "      <td>1</td>\n",
       "      <td>0</td>\n",
       "      <td>1</td>\n",
       "      <td>0</td>\n",
       "    </tr>\n",
       "    <tr>\n",
       "      <th>575</th>\n",
       "      <td>1</td>\n",
       "      <td>1</td>\n",
       "      <td>0</td>\n",
       "      <td>0</td>\n",
       "    </tr>\n",
       "    <tr>\n",
       "      <th>618</th>\n",
       "      <td>1</td>\n",
       "      <td>1</td>\n",
       "      <td>0</td>\n",
       "      <td>0</td>\n",
       "    </tr>\n",
       "    <tr>\n",
       "      <th>813</th>\n",
       "      <td>1</td>\n",
       "      <td>1</td>\n",
       "      <td>0</td>\n",
       "      <td>0</td>\n",
       "    </tr>\n",
       "    <tr>\n",
       "      <th>893</th>\n",
       "      <td>1</td>\n",
       "      <td>1</td>\n",
       "      <td>0</td>\n",
       "      <td>0</td>\n",
       "    </tr>\n",
       "  </tbody>\n",
       "</table>\n",
       "</div>"
      ],
      "text/plain": [
       "     gender_M  serv_type_RBS  serv_type_VDSL  churn_N\n",
       "567         1              0               1        0\n",
       "575         1              1               0        0\n",
       "618         1              1               0        0\n",
       "813         1              1               0        0\n",
       "893         1              1               0        0"
      ]
     },
     "execution_count": 53,
     "metadata": {},
     "output_type": "execute_result"
    }
   ],
   "source": [
    "# Can drop churn_Y column.\n",
    "churn_catcols_under.drop(['churn_Y'], axis = 1, inplace = True)\n",
    "churn_catcols_under.head()"
   ]
  },
  {
   "cell_type": "code",
   "execution_count": 54,
   "metadata": {},
   "outputs": [
    {
     "name": "stdout",
     "output_type": "stream",
     "text": [
      "<class 'pandas.core.frame.DataFrame'>\n",
      "Int64Index: 2528 entries, 567 to 67904\n",
      "Data columns (total 4 columns):\n",
      "gender_M          2528 non-null uint8\n",
      "serv_type_RBS     2528 non-null uint8\n",
      "serv_type_VDSL    2528 non-null uint8\n",
      "churn_N           2528 non-null uint8\n",
      "dtypes: uint8(4)\n",
      "memory usage: 109.6 KB\n"
     ]
    }
   ],
   "source": [
    "churn_catcols_under.info()"
   ]
  },
  {
   "cell_type": "code",
   "execution_count": 55,
   "metadata": {},
   "outputs": [
    {
     "data": {
      "text/html": [
       "<div>\n",
       "<style scoped>\n",
       "    .dataframe tbody tr th:only-of-type {\n",
       "        vertical-align: middle;\n",
       "    }\n",
       "\n",
       "    .dataframe tbody tr th {\n",
       "        vertical-align: top;\n",
       "    }\n",
       "\n",
       "    .dataframe thead th {\n",
       "        text-align: right;\n",
       "    }\n",
       "</style>\n",
       "<table border=\"1\" class=\"dataframe\">\n",
       "  <thead>\n",
       "    <tr style=\"text-align: right;\">\n",
       "      <th></th>\n",
       "      <th>gender_M</th>\n",
       "      <th>serv_type_RBS</th>\n",
       "      <th>serv_type_VDSL</th>\n",
       "      <th>churn_N</th>\n",
       "    </tr>\n",
       "  </thead>\n",
       "  <tbody>\n",
       "    <tr>\n",
       "      <th>567</th>\n",
       "      <td>1</td>\n",
       "      <td>0</td>\n",
       "      <td>1</td>\n",
       "      <td>0</td>\n",
       "    </tr>\n",
       "    <tr>\n",
       "      <th>575</th>\n",
       "      <td>1</td>\n",
       "      <td>1</td>\n",
       "      <td>0</td>\n",
       "      <td>0</td>\n",
       "    </tr>\n",
       "    <tr>\n",
       "      <th>618</th>\n",
       "      <td>1</td>\n",
       "      <td>1</td>\n",
       "      <td>0</td>\n",
       "      <td>0</td>\n",
       "    </tr>\n",
       "    <tr>\n",
       "      <th>813</th>\n",
       "      <td>1</td>\n",
       "      <td>1</td>\n",
       "      <td>0</td>\n",
       "      <td>0</td>\n",
       "    </tr>\n",
       "    <tr>\n",
       "      <th>893</th>\n",
       "      <td>1</td>\n",
       "      <td>1</td>\n",
       "      <td>0</td>\n",
       "      <td>0</td>\n",
       "    </tr>\n",
       "  </tbody>\n",
       "</table>\n",
       "</div>"
      ],
      "text/plain": [
       "     gender_M  serv_type_RBS  serv_type_VDSL  churn_N\n",
       "567         1              0               1        0\n",
       "575         1              1               0        0\n",
       "618         1              1               0        0\n",
       "813         1              1               0        0\n",
       "893         1              1               0        0"
      ]
     },
     "execution_count": 55,
     "metadata": {},
     "output_type": "execute_result"
    }
   ],
   "source": [
    "churn_catcols_under.head()"
   ]
  },
  {
   "cell_type": "code",
   "execution_count": 56,
   "metadata": {},
   "outputs": [],
   "source": [
    "# Dummy columns created for gender, serv_type and churn columns. So dropping the original columns from dataframe\n",
    "num_df = churn_under_sample.drop(['acct_no','gender','cont_no','serv_type','churn'], axis = 1)"
   ]
  },
  {
   "cell_type": "code",
   "execution_count": 57,
   "metadata": {},
   "outputs": [
    {
     "data": {
      "text/html": [
       "<div>\n",
       "<style scoped>\n",
       "    .dataframe tbody tr th:only-of-type {\n",
       "        vertical-align: middle;\n",
       "    }\n",
       "\n",
       "    .dataframe tbody tr th {\n",
       "        vertical-align: top;\n",
       "    }\n",
       "\n",
       "    .dataframe thead th {\n",
       "        text-align: right;\n",
       "    }\n",
       "</style>\n",
       "<table border=\"1\" class=\"dataframe\">\n",
       "  <thead>\n",
       "    <tr style=\"text-align: right;\">\n",
       "      <th></th>\n",
       "      <th>bill_cycl</th>\n",
       "      <th>secured_revenue</th>\n",
       "      <th>tenure</th>\n",
       "      <th>contract_end</th>\n",
       "    </tr>\n",
       "  </thead>\n",
       "  <tbody>\n",
       "    <tr>\n",
       "      <th>567</th>\n",
       "      <td>11</td>\n",
       "      <td>69.0</td>\n",
       "      <td>172</td>\n",
       "      <td>0.0</td>\n",
       "    </tr>\n",
       "    <tr>\n",
       "      <th>575</th>\n",
       "      <td>15</td>\n",
       "      <td>169.0</td>\n",
       "      <td>182</td>\n",
       "      <td>0.0</td>\n",
       "    </tr>\n",
       "    <tr>\n",
       "      <th>618</th>\n",
       "      <td>1</td>\n",
       "      <td>269.0</td>\n",
       "      <td>183</td>\n",
       "      <td>0.0</td>\n",
       "    </tr>\n",
       "    <tr>\n",
       "      <th>813</th>\n",
       "      <td>11</td>\n",
       "      <td>269.0</td>\n",
       "      <td>170</td>\n",
       "      <td>0.0</td>\n",
       "    </tr>\n",
       "    <tr>\n",
       "      <th>893</th>\n",
       "      <td>1</td>\n",
       "      <td>169.0</td>\n",
       "      <td>168</td>\n",
       "      <td>0.0</td>\n",
       "    </tr>\n",
       "  </tbody>\n",
       "</table>\n",
       "</div>"
      ],
      "text/plain": [
       "     bill_cycl  secured_revenue  tenure  contract_end\n",
       "567         11             69.0     172           0.0\n",
       "575         15            169.0     182           0.0\n",
       "618          1            269.0     183           0.0\n",
       "813         11            269.0     170           0.0\n",
       "893          1            169.0     168           0.0"
      ]
     },
     "execution_count": 57,
     "metadata": {},
     "output_type": "execute_result"
    }
   ],
   "source": [
    "num_df.head()"
   ]
  },
  {
   "cell_type": "code",
   "execution_count": 58,
   "metadata": {},
   "outputs": [],
   "source": [
    "# Concatenating dummy columns with other columns in dataframe\n",
    "churn_final_df = pd.concat([num_df, churn_catcols_under], axis = 1)"
   ]
  },
  {
   "cell_type": "code",
   "execution_count": 59,
   "metadata": {},
   "outputs": [
    {
     "data": {
      "text/html": [
       "<div>\n",
       "<style scoped>\n",
       "    .dataframe tbody tr th:only-of-type {\n",
       "        vertical-align: middle;\n",
       "    }\n",
       "\n",
       "    .dataframe tbody tr th {\n",
       "        vertical-align: top;\n",
       "    }\n",
       "\n",
       "    .dataframe thead th {\n",
       "        text-align: right;\n",
       "    }\n",
       "</style>\n",
       "<table border=\"1\" class=\"dataframe\">\n",
       "  <thead>\n",
       "    <tr style=\"text-align: right;\">\n",
       "      <th></th>\n",
       "      <th>bill_cycl</th>\n",
       "      <th>secured_revenue</th>\n",
       "      <th>tenure</th>\n",
       "      <th>contract_end</th>\n",
       "      <th>gender_M</th>\n",
       "      <th>serv_type_RBS</th>\n",
       "      <th>serv_type_VDSL</th>\n",
       "      <th>churn_N</th>\n",
       "    </tr>\n",
       "  </thead>\n",
       "  <tbody>\n",
       "    <tr>\n",
       "      <th>567</th>\n",
       "      <td>11</td>\n",
       "      <td>69.0</td>\n",
       "      <td>172</td>\n",
       "      <td>0.0</td>\n",
       "      <td>1</td>\n",
       "      <td>0</td>\n",
       "      <td>1</td>\n",
       "      <td>0</td>\n",
       "    </tr>\n",
       "    <tr>\n",
       "      <th>575</th>\n",
       "      <td>15</td>\n",
       "      <td>169.0</td>\n",
       "      <td>182</td>\n",
       "      <td>0.0</td>\n",
       "      <td>1</td>\n",
       "      <td>1</td>\n",
       "      <td>0</td>\n",
       "      <td>0</td>\n",
       "    </tr>\n",
       "    <tr>\n",
       "      <th>618</th>\n",
       "      <td>1</td>\n",
       "      <td>269.0</td>\n",
       "      <td>183</td>\n",
       "      <td>0.0</td>\n",
       "      <td>1</td>\n",
       "      <td>1</td>\n",
       "      <td>0</td>\n",
       "      <td>0</td>\n",
       "    </tr>\n",
       "    <tr>\n",
       "      <th>813</th>\n",
       "      <td>11</td>\n",
       "      <td>269.0</td>\n",
       "      <td>170</td>\n",
       "      <td>0.0</td>\n",
       "      <td>1</td>\n",
       "      <td>1</td>\n",
       "      <td>0</td>\n",
       "      <td>0</td>\n",
       "    </tr>\n",
       "    <tr>\n",
       "      <th>893</th>\n",
       "      <td>1</td>\n",
       "      <td>169.0</td>\n",
       "      <td>168</td>\n",
       "      <td>0.0</td>\n",
       "      <td>1</td>\n",
       "      <td>1</td>\n",
       "      <td>0</td>\n",
       "      <td>0</td>\n",
       "    </tr>\n",
       "  </tbody>\n",
       "</table>\n",
       "</div>"
      ],
      "text/plain": [
       "     bill_cycl  secured_revenue  tenure  contract_end  gender_M  \\\n",
       "567         11             69.0     172           0.0         1   \n",
       "575         15            169.0     182           0.0         1   \n",
       "618          1            269.0     183           0.0         1   \n",
       "813         11            269.0     170           0.0         1   \n",
       "893          1            169.0     168           0.0         1   \n",
       "\n",
       "     serv_type_RBS  serv_type_VDSL  churn_N  \n",
       "567              0               1        0  \n",
       "575              1               0        0  \n",
       "618              1               0        0  \n",
       "813              1               0        0  \n",
       "893              1               0        0  "
      ]
     },
     "execution_count": 59,
     "metadata": {},
     "output_type": "execute_result"
    }
   ],
   "source": [
    "churn_final_df.head()"
   ]
  },
  {
   "cell_type": "code",
   "execution_count": 60,
   "metadata": {},
   "outputs": [
    {
     "name": "stdout",
     "output_type": "stream",
     "text": [
      "<class 'pandas.core.frame.DataFrame'>\n",
      "Int64Index: 2528 entries, 567 to 67904\n",
      "Data columns (total 8 columns):\n",
      "bill_cycl          2528 non-null int64\n",
      "secured_revenue    2528 non-null float64\n",
      "tenure             2528 non-null int64\n",
      "contract_end       2528 non-null float64\n",
      "gender_M           2528 non-null uint8\n",
      "serv_type_RBS      2528 non-null uint8\n",
      "serv_type_VDSL     2528 non-null uint8\n",
      "churn_N            2528 non-null uint8\n",
      "dtypes: float64(2), int64(2), uint8(4)\n",
      "memory usage: 188.6 KB\n"
     ]
    }
   ],
   "source": [
    "churn_final_df.info()"
   ]
  },
  {
   "cell_type": "code",
   "execution_count": 61,
   "metadata": {},
   "outputs": [],
   "source": [
    "# Creating logistic regression model\n",
    "y = churn_final_df[\"churn_N\"].values\n",
    "\n",
    "X = churn_final_df.drop(['churn_N'], axis=1)"
   ]
  },
  {
   "cell_type": "code",
   "execution_count": 62,
   "metadata": {},
   "outputs": [
    {
     "name": "stdout",
     "output_type": "stream",
     "text": [
      "[[-0.01374697 -0.00947962 -0.03150341  0.00012208 -0.00067384 -0.00038133\n",
      "  -0.00029251]]\n",
      "[-0.00067384]\n"
     ]
    }
   ],
   "source": [
    "from sklearn.linear_model import LogisticRegression\n",
    "from sklearn import metrics\n",
    "logreg = LogisticRegression()\n",
    "logreg.fit(X, y)\n",
    "print(logreg.coef_)\n",
    "print(logreg.intercept_)\n"
   ]
  },
  {
   "cell_type": "code",
   "execution_count": 63,
   "metadata": {},
   "outputs": [],
   "source": [
    "from sklearn.model_selection import train_test_split\n",
    "xTrain, xTest, yTrain, yTest = train_test_split(X, y, test_size=0.30, random_state=12345)"
   ]
  },
  {
   "cell_type": "code",
   "execution_count": 64,
   "metadata": {},
   "outputs": [
    {
     "data": {
      "text/plain": [
       "LogisticRegression(C=1.0, class_weight=None, dual=False, fit_intercept=True,\n",
       "          intercept_scaling=1, max_iter=100, multi_class='ovr', n_jobs=1,\n",
       "          penalty='l2', random_state=None, solver='liblinear', tol=0.0001,\n",
       "          verbose=0, warm_start=False)"
      ]
     },
     "execution_count": 64,
     "metadata": {},
     "output_type": "execute_result"
    }
   ],
   "source": [
    "logreg.fit(xTrain, yTrain)"
   ]
  },
  {
   "cell_type": "code",
   "execution_count": 65,
   "metadata": {},
   "outputs": [
    {
     "name": "stdout",
     "output_type": "stream",
     "text": [
      "[[-0.01356564 -0.00897411 -0.03073827  0.00012044 -0.00066773 -0.00036123\n",
      "  -0.0003065 ]]\n",
      "[-0.00066773]\n"
     ]
    }
   ],
   "source": [
    "print(logreg.coef_)\n",
    "print(logreg.intercept_)"
   ]
  },
  {
   "cell_type": "code",
   "execution_count": 66,
   "metadata": {},
   "outputs": [],
   "source": [
    "y_pred_test = logreg.predict(xTest)"
   ]
  },
  {
   "cell_type": "code",
   "execution_count": 67,
   "metadata": {},
   "outputs": [
    {
     "name": "stdout",
     "output_type": "stream",
     "text": [
      "0.9960474308300395\n",
      "0.9918478260869565\n"
     ]
    }
   ],
   "source": [
    "print(metrics.accuracy_score(yTest, y_pred_test))\n",
    "print(metrics.recall_score(yTest, y_pred_test))"
   ]
  },
  {
   "cell_type": "code",
   "execution_count": 68,
   "metadata": {},
   "outputs": [
    {
     "data": {
      "text/plain": [
       "array([[391,   0],\n",
       "       [  3, 365]], dtype=int64)"
      ]
     },
     "execution_count": 68,
     "metadata": {},
     "output_type": "execute_result"
    }
   ],
   "source": [
    "conf = metrics.confusion_matrix(yTest, y_pred_test)\n",
    "conf"
   ]
  },
  {
   "cell_type": "code",
   "execution_count": 69,
   "metadata": {},
   "outputs": [
    {
     "name": "stdout",
     "output_type": "stream",
     "text": [
      "             precision    recall  f1-score   support\n",
      "\n",
      "          0       0.99      1.00      1.00       391\n",
      "          1       1.00      0.99      1.00       368\n",
      "\n",
      "avg / total       1.00      1.00      1.00       759\n",
      "\n"
     ]
    }
   ],
   "source": [
    "from sklearn.metrics import classification_report\n",
    "\n",
    "print(classification_report(yTest, y_pred_test))"
   ]
  },
  {
   "cell_type": "markdown",
   "metadata": {},
   "source": [
    "From the score , model appears to be biased and cannot be considered for unseen data. Will try other methods"
   ]
  },
  {
   "cell_type": "code",
   "execution_count": 70,
   "metadata": {},
   "outputs": [
    {
     "data": {
      "text/html": [
       "<div>\n",
       "<style scoped>\n",
       "    .dataframe tbody tr th:only-of-type {\n",
       "        vertical-align: middle;\n",
       "    }\n",
       "\n",
       "    .dataframe tbody tr th {\n",
       "        vertical-align: top;\n",
       "    }\n",
       "\n",
       "    .dataframe thead th {\n",
       "        text-align: right;\n",
       "    }\n",
       "</style>\n",
       "<table border=\"1\" class=\"dataframe\">\n",
       "  <thead>\n",
       "    <tr style=\"text-align: right;\">\n",
       "      <th></th>\n",
       "      <th>acct_no</th>\n",
       "      <th>cont_no</th>\n",
       "      <th>gender</th>\n",
       "      <th>bill_cycl</th>\n",
       "      <th>serv_type</th>\n",
       "      <th>secured_revenue</th>\n",
       "      <th>tenure</th>\n",
       "      <th>churn</th>\n",
       "      <th>contract_end</th>\n",
       "    </tr>\n",
       "  </thead>\n",
       "  <tbody>\n",
       "    <tr>\n",
       "      <th>0</th>\n",
       "      <td>70171228</td>\n",
       "      <td>2</td>\n",
       "      <td>M</td>\n",
       "      <td>1</td>\n",
       "      <td>VDSL</td>\n",
       "      <td>137.98</td>\n",
       "      <td>216</td>\n",
       "      <td>N</td>\n",
       "      <td>202003.0</td>\n",
       "    </tr>\n",
       "    <tr>\n",
       "      <th>3</th>\n",
       "      <td>70283270</td>\n",
       "      <td>1</td>\n",
       "      <td>M</td>\n",
       "      <td>15</td>\n",
       "      <td>VDSL</td>\n",
       "      <td>77.00</td>\n",
       "      <td>219</td>\n",
       "      <td>N</td>\n",
       "      <td>202001.0</td>\n",
       "    </tr>\n",
       "    <tr>\n",
       "      <th>5</th>\n",
       "      <td>70032404</td>\n",
       "      <td>1</td>\n",
       "      <td>M</td>\n",
       "      <td>11</td>\n",
       "      <td>RBS</td>\n",
       "      <td>128.34</td>\n",
       "      <td>225</td>\n",
       "      <td>N</td>\n",
       "      <td>202204.0</td>\n",
       "    </tr>\n",
       "    <tr>\n",
       "      <th>6</th>\n",
       "      <td>70195318</td>\n",
       "      <td>1</td>\n",
       "      <td>M</td>\n",
       "      <td>1</td>\n",
       "      <td>RBS</td>\n",
       "      <td>174.00</td>\n",
       "      <td>216</td>\n",
       "      <td>N</td>\n",
       "      <td>202103.0</td>\n",
       "    </tr>\n",
       "    <tr>\n",
       "      <th>8</th>\n",
       "      <td>70224076</td>\n",
       "      <td>1</td>\n",
       "      <td>M</td>\n",
       "      <td>11</td>\n",
       "      <td>VDSL</td>\n",
       "      <td>90.45</td>\n",
       "      <td>220</td>\n",
       "      <td>N</td>\n",
       "      <td>202104.0</td>\n",
       "    </tr>\n",
       "  </tbody>\n",
       "</table>\n",
       "</div>"
      ],
      "text/plain": [
       "    acct_no  cont_no gender  bill_cycl serv_type  secured_revenue  tenure  \\\n",
       "0  70171228        2      M          1      VDSL           137.98     216   \n",
       "3  70283270        1      M         15      VDSL            77.00     219   \n",
       "5  70032404        1      M         11       RBS           128.34     225   \n",
       "6  70195318        1      M          1       RBS           174.00     216   \n",
       "8  70224076        1      M         11      VDSL            90.45     220   \n",
       "\n",
       "  churn  contract_end  \n",
       "0     N      202003.0  \n",
       "3     N      202001.0  \n",
       "5     N      202204.0  \n",
       "6     N      202103.0  \n",
       "8     N      202104.0  "
      ]
     },
     "execution_count": 70,
     "metadata": {},
     "output_type": "execute_result"
    }
   ],
   "source": [
    "# Try with Randomforest model on the imbalanced data\n",
    "churn_data_df.head()"
   ]
  },
  {
   "cell_type": "code",
   "execution_count": 71,
   "metadata": {},
   "outputs": [
    {
     "data": {
      "text/html": [
       "<div>\n",
       "<style scoped>\n",
       "    .dataframe tbody tr th:only-of-type {\n",
       "        vertical-align: middle;\n",
       "    }\n",
       "\n",
       "    .dataframe tbody tr th {\n",
       "        vertical-align: top;\n",
       "    }\n",
       "\n",
       "    .dataframe thead th {\n",
       "        text-align: right;\n",
       "    }\n",
       "</style>\n",
       "<table border=\"1\" class=\"dataframe\">\n",
       "  <thead>\n",
       "    <tr style=\"text-align: right;\">\n",
       "      <th></th>\n",
       "      <th>bill_cycl</th>\n",
       "      <th>secured_revenue</th>\n",
       "      <th>tenure</th>\n",
       "      <th>contract_end</th>\n",
       "      <th>gender_M</th>\n",
       "      <th>serv_type_RBS</th>\n",
       "      <th>serv_type_VDSL</th>\n",
       "      <th>churn_N</th>\n",
       "    </tr>\n",
       "  </thead>\n",
       "  <tbody>\n",
       "    <tr>\n",
       "      <th>0</th>\n",
       "      <td>1</td>\n",
       "      <td>137.98</td>\n",
       "      <td>216</td>\n",
       "      <td>202003.0</td>\n",
       "      <td>1</td>\n",
       "      <td>0</td>\n",
       "      <td>1</td>\n",
       "      <td>1</td>\n",
       "    </tr>\n",
       "    <tr>\n",
       "      <th>3</th>\n",
       "      <td>15</td>\n",
       "      <td>77.00</td>\n",
       "      <td>219</td>\n",
       "      <td>202001.0</td>\n",
       "      <td>1</td>\n",
       "      <td>0</td>\n",
       "      <td>1</td>\n",
       "      <td>1</td>\n",
       "    </tr>\n",
       "    <tr>\n",
       "      <th>5</th>\n",
       "      <td>11</td>\n",
       "      <td>128.34</td>\n",
       "      <td>225</td>\n",
       "      <td>202204.0</td>\n",
       "      <td>1</td>\n",
       "      <td>1</td>\n",
       "      <td>0</td>\n",
       "      <td>1</td>\n",
       "    </tr>\n",
       "    <tr>\n",
       "      <th>6</th>\n",
       "      <td>1</td>\n",
       "      <td>174.00</td>\n",
       "      <td>216</td>\n",
       "      <td>202103.0</td>\n",
       "      <td>1</td>\n",
       "      <td>1</td>\n",
       "      <td>0</td>\n",
       "      <td>1</td>\n",
       "    </tr>\n",
       "    <tr>\n",
       "      <th>8</th>\n",
       "      <td>11</td>\n",
       "      <td>90.45</td>\n",
       "      <td>220</td>\n",
       "      <td>202104.0</td>\n",
       "      <td>1</td>\n",
       "      <td>0</td>\n",
       "      <td>1</td>\n",
       "      <td>1</td>\n",
       "    </tr>\n",
       "  </tbody>\n",
       "</table>\n",
       "</div>"
      ],
      "text/plain": [
       "   bill_cycl  secured_revenue  tenure  contract_end  gender_M  serv_type_RBS  \\\n",
       "0          1           137.98     216      202003.0         1              0   \n",
       "3         15            77.00     219      202001.0         1              0   \n",
       "5         11           128.34     225      202204.0         1              1   \n",
       "6          1           174.00     216      202103.0         1              1   \n",
       "8         11            90.45     220      202104.0         1              0   \n",
       "\n",
       "   serv_type_VDSL  churn_N  \n",
       "0               1        1  \n",
       "3               1        1  \n",
       "5               0        1  \n",
       "6               0        1  \n",
       "8               1        1  "
      ]
     },
     "execution_count": 71,
     "metadata": {},
     "output_type": "execute_result"
    }
   ],
   "source": [
    "churn_data_imbalanced_df.head()"
   ]
  },
  {
   "cell_type": "code",
   "execution_count": 74,
   "metadata": {},
   "outputs": [],
   "source": [
    "y = churn_data_imbalanced_df['churn_N'].values\n",
    "X = churn_data_imbalanced_df.drop(['churn_N'], axis=1)"
   ]
  },
  {
   "cell_type": "code",
   "execution_count": 76,
   "metadata": {},
   "outputs": [],
   "source": [
    "from sklearn.model_selection import train_test_split\n",
    "xTrain, xTest, yTrain, yTest  = train_test_split(X,y, test_size = 0.30, random_state = 12345, stratify = y)"
   ]
  },
  {
   "cell_type": "code",
   "execution_count": 77,
   "metadata": {},
   "outputs": [],
   "source": [
    "from sklearn.ensemble import RandomForestClassifier\n",
    "forest = RandomForestClassifier(criterion = 'gini', n_estimators = 100, max_depth = 10, min_samples_split=2, min_samples_leaf = 3, random_state=12345, class_weight = 'balanced')"
   ]
  },
  {
   "cell_type": "code",
   "execution_count": 78,
   "metadata": {},
   "outputs": [],
   "source": [
    "my_forest = forest.fit(xTrain, yTrain)"
   ]
  },
  {
   "cell_type": "code",
   "execution_count": 79,
   "metadata": {},
   "outputs": [
    {
     "name": "stdout",
     "output_type": "stream",
     "text": [
      "0.9886547531976895\n"
     ]
    }
   ],
   "source": [
    "print(my_forest.score(xTrain, yTrain))"
   ]
  },
  {
   "cell_type": "code",
   "execution_count": 80,
   "metadata": {},
   "outputs": [],
   "source": [
    "y_pred_test = my_forest.predict(xTest)"
   ]
  },
  {
   "cell_type": "code",
   "execution_count": 81,
   "metadata": {},
   "outputs": [],
   "source": [
    "from sklearn.metrics import confusion_matrix\n",
    "df_confusion = confusion_matrix(yTest, y_pred_test)"
   ]
  },
  {
   "cell_type": "code",
   "execution_count": 82,
   "metadata": {},
   "outputs": [
    {
     "data": {
      "text/plain": [
       "array([[  372,     7],\n",
       "       [  812, 73227]], dtype=int64)"
      ]
     },
     "execution_count": 82,
     "metadata": {},
     "output_type": "execute_result"
    }
   ],
   "source": [
    "df_confusion"
   ]
  },
  {
   "cell_type": "code",
   "execution_count": 83,
   "metadata": {},
   "outputs": [],
   "source": [
    "from sklearn.metrics import accuracy_score"
   ]
  },
  {
   "cell_type": "code",
   "execution_count": 84,
   "metadata": {},
   "outputs": [
    {
     "name": "stdout",
     "output_type": "stream",
     "text": [
      "0.9889945980811095\n"
     ]
    }
   ],
   "source": [
    "print(accuracy_score(yTest, y_pred_test))"
   ]
  },
  {
   "cell_type": "code",
   "execution_count": 85,
   "metadata": {},
   "outputs": [
    {
     "name": "stdout",
     "output_type": "stream",
     "text": [
      "0.9890328070341307\n"
     ]
    }
   ],
   "source": [
    "print(metrics.recall_score(yTest, y_pred_test))"
   ]
  },
  {
   "cell_type": "code",
   "execution_count": 86,
   "metadata": {},
   "outputs": [
    {
     "name": "stdout",
     "output_type": "stream",
     "text": [
      "             precision    recall  f1-score   support\n",
      "\n",
      "          0       0.31      0.98      0.48       379\n",
      "          1       1.00      0.99      0.99     74039\n",
      "\n",
      "avg / total       1.00      0.99      0.99     74418\n",
      "\n"
     ]
    }
   ],
   "source": [
    "from sklearn.metrics import classification_report\n",
    "\n",
    "print(classification_report(yTest, y_pred_test))"
   ]
  },
  {
   "cell_type": "code",
   "execution_count": null,
   "metadata": {},
   "outputs": [],
   "source": []
  }
 ],
 "metadata": {
  "kernelspec": {
   "display_name": "Python 3",
   "language": "python",
   "name": "python3"
  },
  "language_info": {
   "codemirror_mode": {
    "name": "ipython",
    "version": 3
   },
   "file_extension": ".py",
   "mimetype": "text/x-python",
   "name": "python",
   "nbconvert_exporter": "python",
   "pygments_lexer": "ipython3",
   "version": "3.6.4"
  }
 },
 "nbformat": 4,
 "nbformat_minor": 2
}
