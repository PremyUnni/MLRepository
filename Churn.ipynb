{
 "cells": [
  {
   "cell_type": "code",
   "execution_count": 230,
   "metadata": {},
   "outputs": [],
   "source": [
    "your_local_path = \"D:/Premy/UPX/ML/Practice/\""
   ]
  },
  {
   "cell_type": "code",
   "execution_count": 231,
   "metadata": {},
   "outputs": [],
   "source": [
    "import pandas as pd\n",
    "import numpy as np\n",
    "import seaborn as sns\n",
    "import matplotlib.pyplot as plt\n",
    "%matplotlib inline"
   ]
  },
  {
   "cell_type": "code",
   "execution_count": 232,
   "metadata": {},
   "outputs": [],
   "source": [
    "churn_data_df = pd.read_csv(your_local_path +\"latest.csv\")"
   ]
  },
  {
   "cell_type": "code",
   "execution_count": 233,
   "metadata": {},
   "outputs": [
    {
     "data": {
      "text/html": [
       "<div>\n",
       "<style scoped>\n",
       "    .dataframe tbody tr th:only-of-type {\n",
       "        vertical-align: middle;\n",
       "    }\n",
       "\n",
       "    .dataframe tbody tr th {\n",
       "        vertical-align: top;\n",
       "    }\n",
       "\n",
       "    .dataframe thead th {\n",
       "        text-align: right;\n",
       "    }\n",
       "</style>\n",
       "<table border=\"1\" class=\"dataframe\">\n",
       "  <thead>\n",
       "    <tr style=\"text-align: right;\">\n",
       "      <th></th>\n",
       "      <th>Unnamed: 0</th>\n",
       "      <th>acct_no</th>\n",
       "      <th>cont_no</th>\n",
       "      <th>gender</th>\n",
       "      <th>bill_cycl</th>\n",
       "      <th>serv_type</th>\n",
       "      <th>secured_revenue</th>\n",
       "      <th>tenure</th>\n",
       "      <th>churn</th>\n",
       "      <th>contract_end</th>\n",
       "    </tr>\n",
       "  </thead>\n",
       "  <tbody>\n",
       "    <tr>\n",
       "      <th>0</th>\n",
       "      <td>0</td>\n",
       "      <td>70171228</td>\n",
       "      <td>2</td>\n",
       "      <td>M</td>\n",
       "      <td>1</td>\n",
       "      <td>VDSL</td>\n",
       "      <td>137.98</td>\n",
       "      <td>216</td>\n",
       "      <td>N</td>\n",
       "      <td>202003.0</td>\n",
       "    </tr>\n",
       "    <tr>\n",
       "      <th>1</th>\n",
       "      <td>1</td>\n",
       "      <td>70099932</td>\n",
       "      <td>1</td>\n",
       "      <td>NaN</td>\n",
       "      <td>11</td>\n",
       "      <td>RBS</td>\n",
       "      <td>94.00</td>\n",
       "      <td>219</td>\n",
       "      <td>N</td>\n",
       "      <td>202007.0</td>\n",
       "    </tr>\n",
       "    <tr>\n",
       "      <th>2</th>\n",
       "      <td>2</td>\n",
       "      <td>70109566</td>\n",
       "      <td>1</td>\n",
       "      <td>NaN</td>\n",
       "      <td>15</td>\n",
       "      <td>RBS</td>\n",
       "      <td>126.00</td>\n",
       "      <td>221</td>\n",
       "      <td>N</td>\n",
       "      <td>202107.0</td>\n",
       "    </tr>\n",
       "    <tr>\n",
       "      <th>3</th>\n",
       "      <td>3</td>\n",
       "      <td>70283270</td>\n",
       "      <td>1</td>\n",
       "      <td>M</td>\n",
       "      <td>15</td>\n",
       "      <td>VDSL</td>\n",
       "      <td>77.00</td>\n",
       "      <td>219</td>\n",
       "      <td>N</td>\n",
       "      <td>202001.0</td>\n",
       "    </tr>\n",
       "    <tr>\n",
       "      <th>4</th>\n",
       "      <td>4</td>\n",
       "      <td>70116504</td>\n",
       "      <td>1</td>\n",
       "      <td>NaN</td>\n",
       "      <td>11</td>\n",
       "      <td>VDSL</td>\n",
       "      <td>128.99</td>\n",
       "      <td>221</td>\n",
       "      <td>N</td>\n",
       "      <td>202008.0</td>\n",
       "    </tr>\n",
       "  </tbody>\n",
       "</table>\n",
       "</div>"
      ],
      "text/plain": [
       "   Unnamed: 0   acct_no  cont_no gender  bill_cycl serv_type  secured_revenue  \\\n",
       "0           0  70171228        2      M          1      VDSL           137.98   \n",
       "1           1  70099932        1    NaN         11       RBS            94.00   \n",
       "2           2  70109566        1    NaN         15       RBS           126.00   \n",
       "3           3  70283270        1      M         15      VDSL            77.00   \n",
       "4           4  70116504        1    NaN         11      VDSL           128.99   \n",
       "\n",
       "   tenure churn  contract_end  \n",
       "0     216     N      202003.0  \n",
       "1     219     N      202007.0  \n",
       "2     221     N      202107.0  \n",
       "3     219     N      202001.0  \n",
       "4     221     N      202008.0  "
      ]
     },
     "execution_count": 233,
     "metadata": {},
     "output_type": "execute_result"
    }
   ],
   "source": [
    "churn_data_df.head()"
   ]
  },
  {
   "cell_type": "code",
   "execution_count": 234,
   "metadata": {},
   "outputs": [
    {
     "data": {
      "text/html": [
       "<div>\n",
       "<style scoped>\n",
       "    .dataframe tbody tr th:only-of-type {\n",
       "        vertical-align: middle;\n",
       "    }\n",
       "\n",
       "    .dataframe tbody tr th {\n",
       "        vertical-align: top;\n",
       "    }\n",
       "\n",
       "    .dataframe thead th {\n",
       "        text-align: right;\n",
       "    }\n",
       "</style>\n",
       "<table border=\"1\" class=\"dataframe\">\n",
       "  <thead>\n",
       "    <tr style=\"text-align: right;\">\n",
       "      <th></th>\n",
       "      <th>acct_no</th>\n",
       "      <th>cont_no</th>\n",
       "      <th>gender</th>\n",
       "      <th>bill_cycl</th>\n",
       "      <th>serv_type</th>\n",
       "      <th>secured_revenue</th>\n",
       "      <th>tenure</th>\n",
       "      <th>churn</th>\n",
       "      <th>contract_end</th>\n",
       "    </tr>\n",
       "  </thead>\n",
       "  <tbody>\n",
       "    <tr>\n",
       "      <th>0</th>\n",
       "      <td>70171228</td>\n",
       "      <td>2</td>\n",
       "      <td>M</td>\n",
       "      <td>1</td>\n",
       "      <td>VDSL</td>\n",
       "      <td>137.98</td>\n",
       "      <td>216</td>\n",
       "      <td>N</td>\n",
       "      <td>202003.0</td>\n",
       "    </tr>\n",
       "    <tr>\n",
       "      <th>1</th>\n",
       "      <td>70099932</td>\n",
       "      <td>1</td>\n",
       "      <td>NaN</td>\n",
       "      <td>11</td>\n",
       "      <td>RBS</td>\n",
       "      <td>94.00</td>\n",
       "      <td>219</td>\n",
       "      <td>N</td>\n",
       "      <td>202007.0</td>\n",
       "    </tr>\n",
       "    <tr>\n",
       "      <th>2</th>\n",
       "      <td>70109566</td>\n",
       "      <td>1</td>\n",
       "      <td>NaN</td>\n",
       "      <td>15</td>\n",
       "      <td>RBS</td>\n",
       "      <td>126.00</td>\n",
       "      <td>221</td>\n",
       "      <td>N</td>\n",
       "      <td>202107.0</td>\n",
       "    </tr>\n",
       "    <tr>\n",
       "      <th>3</th>\n",
       "      <td>70283270</td>\n",
       "      <td>1</td>\n",
       "      <td>M</td>\n",
       "      <td>15</td>\n",
       "      <td>VDSL</td>\n",
       "      <td>77.00</td>\n",
       "      <td>219</td>\n",
       "      <td>N</td>\n",
       "      <td>202001.0</td>\n",
       "    </tr>\n",
       "    <tr>\n",
       "      <th>4</th>\n",
       "      <td>70116504</td>\n",
       "      <td>1</td>\n",
       "      <td>NaN</td>\n",
       "      <td>11</td>\n",
       "      <td>VDSL</td>\n",
       "      <td>128.99</td>\n",
       "      <td>221</td>\n",
       "      <td>N</td>\n",
       "      <td>202008.0</td>\n",
       "    </tr>\n",
       "  </tbody>\n",
       "</table>\n",
       "</div>"
      ],
      "text/plain": [
       "    acct_no  cont_no gender  bill_cycl serv_type  secured_revenue  tenure  \\\n",
       "0  70171228        2      M          1      VDSL           137.98     216   \n",
       "1  70099932        1    NaN         11       RBS            94.00     219   \n",
       "2  70109566        1    NaN         15       RBS           126.00     221   \n",
       "3  70283270        1      M         15      VDSL            77.00     219   \n",
       "4  70116504        1    NaN         11      VDSL           128.99     221   \n",
       "\n",
       "  churn  contract_end  \n",
       "0     N      202003.0  \n",
       "1     N      202007.0  \n",
       "2     N      202107.0  \n",
       "3     N      202001.0  \n",
       "4     N      202008.0  "
      ]
     },
     "execution_count": 234,
     "metadata": {},
     "output_type": "execute_result"
    }
   ],
   "source": [
    "churn_data_df.drop([churn_data_df.columns[0]], axis='columns', inplace = True)\n",
    "churn_data_df.head()"
   ]
  },
  {
   "cell_type": "code",
   "execution_count": 235,
   "metadata": {},
   "outputs": [
    {
     "data": {
      "text/plain": [
       "acct_no                0\n",
       "cont_no                0\n",
       "gender             30346\n",
       "bill_cycl              0\n",
       "serv_type              0\n",
       "secured_revenue    17378\n",
       "tenure                 0\n",
       "churn                  0\n",
       "contract_end       16905\n",
       "dtype: int64"
      ]
     },
     "execution_count": 235,
     "metadata": {},
     "output_type": "execute_result"
    }
   ],
   "source": [
    "churn_data_df.isna().sum()"
   ]
  },
  {
   "cell_type": "markdown",
   "metadata": {},
   "source": [
    "Gender column has quite a few null values."
   ]
  },
  {
   "cell_type": "code",
   "execution_count": 236,
   "metadata": {},
   "outputs": [],
   "source": [
    "# Handling null values in Gender column \n",
    "churn_data_df = churn_data_df.dropna(axis=0, subset=['gender'])\n"
   ]
  },
  {
   "cell_type": "code",
   "execution_count": 379,
   "metadata": {},
   "outputs": [
    {
     "data": {
      "text/plain": [
       "acct_no            0\n",
       "cont_no            0\n",
       "gender             0\n",
       "bill_cycl          0\n",
       "serv_type          0\n",
       "secured_revenue    0\n",
       "tenure             0\n",
       "churn              0\n",
       "contract_end       0\n",
       "dtype: int64"
      ]
     },
     "execution_count": 379,
     "metadata": {},
     "output_type": "execute_result"
    }
   ],
   "source": [
    "churn_data_df.isna().sum()"
   ]
  },
  {
   "cell_type": "code",
   "execution_count": 380,
   "metadata": {},
   "outputs": [
    {
     "data": {
      "text/html": [
       "<div>\n",
       "<style scoped>\n",
       "    .dataframe tbody tr th:only-of-type {\n",
       "        vertical-align: middle;\n",
       "    }\n",
       "\n",
       "    .dataframe tbody tr th {\n",
       "        vertical-align: top;\n",
       "    }\n",
       "\n",
       "    .dataframe thead th {\n",
       "        text-align: right;\n",
       "    }\n",
       "</style>\n",
       "<table border=\"1\" class=\"dataframe\">\n",
       "  <thead>\n",
       "    <tr style=\"text-align: right;\">\n",
       "      <th></th>\n",
       "      <th>acct_no</th>\n",
       "      <th>cont_no</th>\n",
       "      <th>gender</th>\n",
       "      <th>bill_cycl</th>\n",
       "      <th>serv_type</th>\n",
       "      <th>secured_revenue</th>\n",
       "      <th>tenure</th>\n",
       "      <th>churn</th>\n",
       "      <th>contract_end</th>\n",
       "    </tr>\n",
       "  </thead>\n",
       "  <tbody>\n",
       "    <tr>\n",
       "      <th>0</th>\n",
       "      <td>70171228</td>\n",
       "      <td>2</td>\n",
       "      <td>M</td>\n",
       "      <td>1</td>\n",
       "      <td>VDSL</td>\n",
       "      <td>137.98</td>\n",
       "      <td>216</td>\n",
       "      <td>N</td>\n",
       "      <td>202003.0</td>\n",
       "    </tr>\n",
       "    <tr>\n",
       "      <th>3</th>\n",
       "      <td>70283270</td>\n",
       "      <td>1</td>\n",
       "      <td>M</td>\n",
       "      <td>15</td>\n",
       "      <td>VDSL</td>\n",
       "      <td>77.00</td>\n",
       "      <td>219</td>\n",
       "      <td>N</td>\n",
       "      <td>202001.0</td>\n",
       "    </tr>\n",
       "    <tr>\n",
       "      <th>5</th>\n",
       "      <td>70032404</td>\n",
       "      <td>1</td>\n",
       "      <td>M</td>\n",
       "      <td>11</td>\n",
       "      <td>RBS</td>\n",
       "      <td>128.34</td>\n",
       "      <td>225</td>\n",
       "      <td>N</td>\n",
       "      <td>202204.0</td>\n",
       "    </tr>\n",
       "    <tr>\n",
       "      <th>6</th>\n",
       "      <td>70195318</td>\n",
       "      <td>1</td>\n",
       "      <td>M</td>\n",
       "      <td>1</td>\n",
       "      <td>RBS</td>\n",
       "      <td>174.00</td>\n",
       "      <td>216</td>\n",
       "      <td>N</td>\n",
       "      <td>202103.0</td>\n",
       "    </tr>\n",
       "    <tr>\n",
       "      <th>8</th>\n",
       "      <td>70224076</td>\n",
       "      <td>1</td>\n",
       "      <td>M</td>\n",
       "      <td>11</td>\n",
       "      <td>VDSL</td>\n",
       "      <td>90.45</td>\n",
       "      <td>220</td>\n",
       "      <td>N</td>\n",
       "      <td>202104.0</td>\n",
       "    </tr>\n",
       "  </tbody>\n",
       "</table>\n",
       "</div>"
      ],
      "text/plain": [
       "    acct_no  cont_no gender  bill_cycl serv_type  secured_revenue  tenure  \\\n",
       "0  70171228        2      M          1      VDSL           137.98     216   \n",
       "3  70283270        1      M         15      VDSL            77.00     219   \n",
       "5  70032404        1      M         11       RBS           128.34     225   \n",
       "6  70195318        1      M          1       RBS           174.00     216   \n",
       "8  70224076        1      M         11      VDSL            90.45     220   \n",
       "\n",
       "  churn  contract_end  \n",
       "0     N      202003.0  \n",
       "3     N      202001.0  \n",
       "5     N      202204.0  \n",
       "6     N      202103.0  \n",
       "8     N      202104.0  "
      ]
     },
     "execution_count": 380,
     "metadata": {},
     "output_type": "execute_result"
    }
   ],
   "source": [
    "churn_data_df.head()"
   ]
  },
  {
   "cell_type": "code",
   "execution_count": 381,
   "metadata": {},
   "outputs": [],
   "source": [
    "churn_data_df[\"secured_revenue\"].fillna(0, inplace = True)"
   ]
  },
  {
   "cell_type": "code",
   "execution_count": 382,
   "metadata": {},
   "outputs": [],
   "source": [
    "churn_data_df[\"contract_end\"].fillna(0, inplace = True)"
   ]
  },
  {
   "cell_type": "code",
   "execution_count": 383,
   "metadata": {},
   "outputs": [
    {
     "data": {
      "text/plain": [
       "acct_no            0\n",
       "cont_no            0\n",
       "gender             0\n",
       "bill_cycl          0\n",
       "serv_type          0\n",
       "secured_revenue    0\n",
       "tenure             0\n",
       "churn              0\n",
       "contract_end       0\n",
       "dtype: int64"
      ]
     },
     "execution_count": 383,
     "metadata": {},
     "output_type": "execute_result"
    }
   ],
   "source": [
    "churn_data_df.isna().sum()"
   ]
  },
  {
   "cell_type": "code",
   "execution_count": 384,
   "metadata": {},
   "outputs": [
    {
     "name": "stdout",
     "output_type": "stream",
     "text": [
      "<class 'pandas.core.frame.DataFrame'>\n",
      "Int64Index: 248059 entries, 0 to 278404\n",
      "Data columns (total 9 columns):\n",
      "acct_no            248059 non-null int64\n",
      "cont_no            248059 non-null int64\n",
      "gender             248059 non-null object\n",
      "bill_cycl          248059 non-null int64\n",
      "serv_type          248059 non-null object\n",
      "secured_revenue    248059 non-null float64\n",
      "tenure             248059 non-null int64\n",
      "churn              248059 non-null object\n",
      "contract_end       248059 non-null float64\n",
      "dtypes: float64(2), int64(4), object(3)\n",
      "memory usage: 28.9+ MB\n"
     ]
    }
   ],
   "source": [
    "churn_data_df.info()"
   ]
  },
  {
   "cell_type": "code",
   "execution_count": 242,
   "metadata": {},
   "outputs": [
    {
     "data": {
      "text/html": [
       "<div>\n",
       "<style scoped>\n",
       "    .dataframe tbody tr th:only-of-type {\n",
       "        vertical-align: middle;\n",
       "    }\n",
       "\n",
       "    .dataframe tbody tr th {\n",
       "        vertical-align: top;\n",
       "    }\n",
       "\n",
       "    .dataframe thead th {\n",
       "        text-align: right;\n",
       "    }\n",
       "</style>\n",
       "<table border=\"1\" class=\"dataframe\">\n",
       "  <thead>\n",
       "    <tr style=\"text-align: right;\">\n",
       "      <th></th>\n",
       "      <th>acct_no</th>\n",
       "      <th>cont_no</th>\n",
       "      <th>bill_cycl</th>\n",
       "      <th>secured_revenue</th>\n",
       "      <th>tenure</th>\n",
       "      <th>contract_end</th>\n",
       "    </tr>\n",
       "  </thead>\n",
       "  <tbody>\n",
       "    <tr>\n",
       "      <th>count</th>\n",
       "      <td>2.480590e+05</td>\n",
       "      <td>248059.000000</td>\n",
       "      <td>248059.000000</td>\n",
       "      <td>248059.000000</td>\n",
       "      <td>248059.000000</td>\n",
       "      <td>248059.000000</td>\n",
       "    </tr>\n",
       "    <tr>\n",
       "      <th>mean</th>\n",
       "      <td>9.149096e+07</td>\n",
       "      <td>1.342975</td>\n",
       "      <td>17.259991</td>\n",
       "      <td>126.275963</td>\n",
       "      <td>67.595310</td>\n",
       "      <td>198028.509661</td>\n",
       "    </tr>\n",
       "    <tr>\n",
       "      <th>std</th>\n",
       "      <td>7.266804e+06</td>\n",
       "      <td>11.249306</td>\n",
       "      <td>7.254002</td>\n",
       "      <td>58.904122</td>\n",
       "      <td>55.084237</td>\n",
       "      <td>28306.876215</td>\n",
       "    </tr>\n",
       "    <tr>\n",
       "      <th>min</th>\n",
       "      <td>7.000274e+07</td>\n",
       "      <td>1.000000</td>\n",
       "      <td>1.000000</td>\n",
       "      <td>0.000000</td>\n",
       "      <td>0.000000</td>\n",
       "      <td>0.000000</td>\n",
       "    </tr>\n",
       "    <tr>\n",
       "      <th>25%</th>\n",
       "      <td>9.191893e+07</td>\n",
       "      <td>1.000000</td>\n",
       "      <td>11.000000</td>\n",
       "      <td>94.000000</td>\n",
       "      <td>20.000000</td>\n",
       "      <td>202007.000000</td>\n",
       "    </tr>\n",
       "    <tr>\n",
       "      <th>50%</th>\n",
       "      <td>9.447447e+07</td>\n",
       "      <td>1.000000</td>\n",
       "      <td>18.000000</td>\n",
       "      <td>120.050000</td>\n",
       "      <td>51.000000</td>\n",
       "      <td>202101.000000</td>\n",
       "    </tr>\n",
       "    <tr>\n",
       "      <th>75%</th>\n",
       "      <td>9.548646e+07</td>\n",
       "      <td>1.000000</td>\n",
       "      <td>25.000000</td>\n",
       "      <td>147.980000</td>\n",
       "      <td>105.000000</td>\n",
       "      <td>202109.000000</td>\n",
       "    </tr>\n",
       "    <tr>\n",
       "      <th>max</th>\n",
       "      <td>9.647528e+07</td>\n",
       "      <td>513.000000</td>\n",
       "      <td>25.000000</td>\n",
       "      <td>2612.000000</td>\n",
       "      <td>230.000000</td>\n",
       "      <td>202305.000000</td>\n",
       "    </tr>\n",
       "  </tbody>\n",
       "</table>\n",
       "</div>"
      ],
      "text/plain": [
       "            acct_no        cont_no      bill_cycl  secured_revenue  \\\n",
       "count  2.480590e+05  248059.000000  248059.000000    248059.000000   \n",
       "mean   9.149096e+07       1.342975      17.259991       126.275963   \n",
       "std    7.266804e+06      11.249306       7.254002        58.904122   \n",
       "min    7.000274e+07       1.000000       1.000000         0.000000   \n",
       "25%    9.191893e+07       1.000000      11.000000        94.000000   \n",
       "50%    9.447447e+07       1.000000      18.000000       120.050000   \n",
       "75%    9.548646e+07       1.000000      25.000000       147.980000   \n",
       "max    9.647528e+07     513.000000      25.000000      2612.000000   \n",
       "\n",
       "              tenure   contract_end  \n",
       "count  248059.000000  248059.000000  \n",
       "mean       67.595310  198028.509661  \n",
       "std        55.084237   28306.876215  \n",
       "min         0.000000       0.000000  \n",
       "25%        20.000000  202007.000000  \n",
       "50%        51.000000  202101.000000  \n",
       "75%       105.000000  202109.000000  \n",
       "max       230.000000  202305.000000  "
      ]
     },
     "execution_count": 242,
     "metadata": {},
     "output_type": "execute_result"
    }
   ],
   "source": [
    "churn_data_df.describe()"
   ]
  },
  {
   "cell_type": "code",
   "execution_count": 385,
   "metadata": {},
   "outputs": [
    {
     "data": {
      "text/html": [
       "<div>\n",
       "<style scoped>\n",
       "    .dataframe tbody tr th:only-of-type {\n",
       "        vertical-align: middle;\n",
       "    }\n",
       "\n",
       "    .dataframe tbody tr th {\n",
       "        vertical-align: top;\n",
       "    }\n",
       "\n",
       "    .dataframe thead th {\n",
       "        text-align: right;\n",
       "    }\n",
       "</style>\n",
       "<table border=\"1\" class=\"dataframe\">\n",
       "  <thead>\n",
       "    <tr style=\"text-align: right;\">\n",
       "      <th></th>\n",
       "      <th>acct_no</th>\n",
       "      <th>cont_no</th>\n",
       "      <th>gender</th>\n",
       "      <th>bill_cycl</th>\n",
       "      <th>serv_type</th>\n",
       "      <th>secured_revenue</th>\n",
       "      <th>tenure</th>\n",
       "      <th>churn</th>\n",
       "      <th>contract_end</th>\n",
       "    </tr>\n",
       "  </thead>\n",
       "  <tbody>\n",
       "    <tr>\n",
       "      <th>0</th>\n",
       "      <td>70171228</td>\n",
       "      <td>2</td>\n",
       "      <td>M</td>\n",
       "      <td>1</td>\n",
       "      <td>VDSL</td>\n",
       "      <td>137.98</td>\n",
       "      <td>216</td>\n",
       "      <td>N</td>\n",
       "      <td>202003.0</td>\n",
       "    </tr>\n",
       "    <tr>\n",
       "      <th>3</th>\n",
       "      <td>70283270</td>\n",
       "      <td>1</td>\n",
       "      <td>M</td>\n",
       "      <td>15</td>\n",
       "      <td>VDSL</td>\n",
       "      <td>77.00</td>\n",
       "      <td>219</td>\n",
       "      <td>N</td>\n",
       "      <td>202001.0</td>\n",
       "    </tr>\n",
       "    <tr>\n",
       "      <th>5</th>\n",
       "      <td>70032404</td>\n",
       "      <td>1</td>\n",
       "      <td>M</td>\n",
       "      <td>11</td>\n",
       "      <td>RBS</td>\n",
       "      <td>128.34</td>\n",
       "      <td>225</td>\n",
       "      <td>N</td>\n",
       "      <td>202204.0</td>\n",
       "    </tr>\n",
       "    <tr>\n",
       "      <th>6</th>\n",
       "      <td>70195318</td>\n",
       "      <td>1</td>\n",
       "      <td>M</td>\n",
       "      <td>1</td>\n",
       "      <td>RBS</td>\n",
       "      <td>174.00</td>\n",
       "      <td>216</td>\n",
       "      <td>N</td>\n",
       "      <td>202103.0</td>\n",
       "    </tr>\n",
       "    <tr>\n",
       "      <th>8</th>\n",
       "      <td>70224076</td>\n",
       "      <td>1</td>\n",
       "      <td>M</td>\n",
       "      <td>11</td>\n",
       "      <td>VDSL</td>\n",
       "      <td>90.45</td>\n",
       "      <td>220</td>\n",
       "      <td>N</td>\n",
       "      <td>202104.0</td>\n",
       "    </tr>\n",
       "  </tbody>\n",
       "</table>\n",
       "</div>"
      ],
      "text/plain": [
       "    acct_no  cont_no gender  bill_cycl serv_type  secured_revenue  tenure  \\\n",
       "0  70171228        2      M          1      VDSL           137.98     216   \n",
       "3  70283270        1      M         15      VDSL            77.00     219   \n",
       "5  70032404        1      M         11       RBS           128.34     225   \n",
       "6  70195318        1      M          1       RBS           174.00     216   \n",
       "8  70224076        1      M         11      VDSL            90.45     220   \n",
       "\n",
       "  churn  contract_end  \n",
       "0     N      202003.0  \n",
       "3     N      202001.0  \n",
       "5     N      202204.0  \n",
       "6     N      202103.0  \n",
       "8     N      202104.0  "
      ]
     },
     "execution_count": 385,
     "metadata": {},
     "output_type": "execute_result"
    }
   ],
   "source": [
    "churn_data_df.head()"
   ]
  },
  {
   "cell_type": "code",
   "execution_count": 244,
   "metadata": {},
   "outputs": [
    {
     "data": {
      "text/plain": [
       "N    246795\n",
       "Y      1264\n",
       "Name: churn, dtype: int64"
      ]
     },
     "execution_count": 244,
     "metadata": {},
     "output_type": "execute_result"
    }
   ],
   "source": [
    "churn_data_df.churn.value_counts()"
   ]
  },
  {
   "cell_type": "code",
   "execution_count": 387,
   "metadata": {},
   "outputs": [
    {
     "data": {
      "text/html": [
       "<div>\n",
       "<style scoped>\n",
       "    .dataframe tbody tr th:only-of-type {\n",
       "        vertical-align: middle;\n",
       "    }\n",
       "\n",
       "    .dataframe tbody tr th {\n",
       "        vertical-align: top;\n",
       "    }\n",
       "\n",
       "    .dataframe thead th {\n",
       "        text-align: right;\n",
       "    }\n",
       "</style>\n",
       "<table border=\"1\" class=\"dataframe\">\n",
       "  <thead>\n",
       "    <tr style=\"text-align: right;\">\n",
       "      <th></th>\n",
       "      <th>gender</th>\n",
       "      <th>serv_type</th>\n",
       "      <th>churn</th>\n",
       "    </tr>\n",
       "  </thead>\n",
       "  <tbody>\n",
       "    <tr>\n",
       "      <th>0</th>\n",
       "      <td>M</td>\n",
       "      <td>VDSL</td>\n",
       "      <td>N</td>\n",
       "    </tr>\n",
       "    <tr>\n",
       "      <th>3</th>\n",
       "      <td>M</td>\n",
       "      <td>VDSL</td>\n",
       "      <td>N</td>\n",
       "    </tr>\n",
       "    <tr>\n",
       "      <th>5</th>\n",
       "      <td>M</td>\n",
       "      <td>RBS</td>\n",
       "      <td>N</td>\n",
       "    </tr>\n",
       "    <tr>\n",
       "      <th>6</th>\n",
       "      <td>M</td>\n",
       "      <td>RBS</td>\n",
       "      <td>N</td>\n",
       "    </tr>\n",
       "    <tr>\n",
       "      <th>8</th>\n",
       "      <td>M</td>\n",
       "      <td>VDSL</td>\n",
       "      <td>N</td>\n",
       "    </tr>\n",
       "  </tbody>\n",
       "</table>\n",
       "</div>"
      ],
      "text/plain": [
       "  gender serv_type churn\n",
       "0      M      VDSL     N\n",
       "3      M      VDSL     N\n",
       "5      M       RBS     N\n",
       "6      M       RBS     N\n",
       "8      M      VDSL     N"
      ]
     },
     "execution_count": 387,
     "metadata": {},
     "output_type": "execute_result"
    }
   ],
   "source": [
    "# Taking categorical columns\n",
    "churn_cat_df = churn_data_df[['gender', 'serv_type', 'churn']]\n",
    "churn_cat_df.head()"
   ]
  },
  {
   "cell_type": "code",
   "execution_count": 388,
   "metadata": {},
   "outputs": [],
   "source": [
    "# Creating dummy columns for categorical values \n",
    "churn_catcols = pd.get_dummies(churn_cat_df )"
   ]
  },
  {
   "cell_type": "code",
   "execution_count": 389,
   "metadata": {},
   "outputs": [
    {
     "data": {
      "text/html": [
       "<div>\n",
       "<style scoped>\n",
       "    .dataframe tbody tr th:only-of-type {\n",
       "        vertical-align: middle;\n",
       "    }\n",
       "\n",
       "    .dataframe tbody tr th {\n",
       "        vertical-align: top;\n",
       "    }\n",
       "\n",
       "    .dataframe thead th {\n",
       "        text-align: right;\n",
       "    }\n",
       "</style>\n",
       "<table border=\"1\" class=\"dataframe\">\n",
       "  <thead>\n",
       "    <tr style=\"text-align: right;\">\n",
       "      <th></th>\n",
       "      <th>gender_F</th>\n",
       "      <th>gender_M</th>\n",
       "      <th>serv_type_ADSL</th>\n",
       "      <th>serv_type_RBS</th>\n",
       "      <th>serv_type_VDSL</th>\n",
       "      <th>churn_Y</th>\n",
       "    </tr>\n",
       "  </thead>\n",
       "  <tbody>\n",
       "    <tr>\n",
       "      <th>0</th>\n",
       "      <td>0</td>\n",
       "      <td>1</td>\n",
       "      <td>0</td>\n",
       "      <td>0</td>\n",
       "      <td>1</td>\n",
       "      <td>0</td>\n",
       "    </tr>\n",
       "    <tr>\n",
       "      <th>3</th>\n",
       "      <td>0</td>\n",
       "      <td>1</td>\n",
       "      <td>0</td>\n",
       "      <td>0</td>\n",
       "      <td>1</td>\n",
       "      <td>0</td>\n",
       "    </tr>\n",
       "    <tr>\n",
       "      <th>5</th>\n",
       "      <td>0</td>\n",
       "      <td>1</td>\n",
       "      <td>0</td>\n",
       "      <td>1</td>\n",
       "      <td>0</td>\n",
       "      <td>0</td>\n",
       "    </tr>\n",
       "    <tr>\n",
       "      <th>6</th>\n",
       "      <td>0</td>\n",
       "      <td>1</td>\n",
       "      <td>0</td>\n",
       "      <td>1</td>\n",
       "      <td>0</td>\n",
       "      <td>0</td>\n",
       "    </tr>\n",
       "    <tr>\n",
       "      <th>8</th>\n",
       "      <td>0</td>\n",
       "      <td>1</td>\n",
       "      <td>0</td>\n",
       "      <td>0</td>\n",
       "      <td>1</td>\n",
       "      <td>0</td>\n",
       "    </tr>\n",
       "  </tbody>\n",
       "</table>\n",
       "</div>"
      ],
      "text/plain": [
       "   gender_F  gender_M  serv_type_ADSL  serv_type_RBS  serv_type_VDSL  churn_Y\n",
       "0         0         1               0              0               1        0\n",
       "3         0         1               0              0               1        0\n",
       "5         0         1               0              1               0        0\n",
       "6         0         1               0              1               0        0\n",
       "8         0         1               0              0               1        0"
      ]
     },
     "execution_count": 389,
     "metadata": {},
     "output_type": "execute_result"
    }
   ],
   "source": [
    "churn_catcols.drop(['churn_N'], axis = 1, inplace = True)\n",
    "churn_catcols.head()"
   ]
  },
  {
   "cell_type": "code",
   "execution_count": 390,
   "metadata": {},
   "outputs": [
    {
     "data": {
      "text/html": [
       "<div>\n",
       "<style scoped>\n",
       "    .dataframe tbody tr th:only-of-type {\n",
       "        vertical-align: middle;\n",
       "    }\n",
       "\n",
       "    .dataframe tbody tr th {\n",
       "        vertical-align: top;\n",
       "    }\n",
       "\n",
       "    .dataframe thead th {\n",
       "        text-align: right;\n",
       "    }\n",
       "</style>\n",
       "<table border=\"1\" class=\"dataframe\">\n",
       "  <thead>\n",
       "    <tr style=\"text-align: right;\">\n",
       "      <th></th>\n",
       "      <th>gender_M</th>\n",
       "      <th>serv_type_ADSL</th>\n",
       "      <th>serv_type_RBS</th>\n",
       "      <th>serv_type_VDSL</th>\n",
       "      <th>churn_Y</th>\n",
       "    </tr>\n",
       "  </thead>\n",
       "  <tbody>\n",
       "    <tr>\n",
       "      <th>0</th>\n",
       "      <td>1</td>\n",
       "      <td>0</td>\n",
       "      <td>0</td>\n",
       "      <td>1</td>\n",
       "      <td>0</td>\n",
       "    </tr>\n",
       "    <tr>\n",
       "      <th>3</th>\n",
       "      <td>1</td>\n",
       "      <td>0</td>\n",
       "      <td>0</td>\n",
       "      <td>1</td>\n",
       "      <td>0</td>\n",
       "    </tr>\n",
       "    <tr>\n",
       "      <th>5</th>\n",
       "      <td>1</td>\n",
       "      <td>0</td>\n",
       "      <td>1</td>\n",
       "      <td>0</td>\n",
       "      <td>0</td>\n",
       "    </tr>\n",
       "    <tr>\n",
       "      <th>6</th>\n",
       "      <td>1</td>\n",
       "      <td>0</td>\n",
       "      <td>1</td>\n",
       "      <td>0</td>\n",
       "      <td>0</td>\n",
       "    </tr>\n",
       "    <tr>\n",
       "      <th>8</th>\n",
       "      <td>1</td>\n",
       "      <td>0</td>\n",
       "      <td>0</td>\n",
       "      <td>1</td>\n",
       "      <td>0</td>\n",
       "    </tr>\n",
       "  </tbody>\n",
       "</table>\n",
       "</div>"
      ],
      "text/plain": [
       "   gender_M  serv_type_ADSL  serv_type_RBS  serv_type_VDSL  churn_Y\n",
       "0         1               0              0               1        0\n",
       "3         1               0              0               1        0\n",
       "5         1               0              1               0        0\n",
       "6         1               0              1               0        0\n",
       "8         1               0              0               1        0"
      ]
     },
     "execution_count": 390,
     "metadata": {},
     "output_type": "execute_result"
    }
   ],
   "source": [
    "churn_catcols.drop(['gender_F'], axis = 1, inplace = True)\n",
    "churn_catcols.head()"
   ]
  },
  {
   "cell_type": "code",
   "execution_count": 391,
   "metadata": {},
   "outputs": [],
   "source": [
    "num_df = churn_data_df.drop(['acct_no','cont_no','gender','serv_type','churn'], axis = 1)"
   ]
  },
  {
   "cell_type": "code",
   "execution_count": 392,
   "metadata": {},
   "outputs": [],
   "source": [
    "churn_data_imbalanced_df = pd.concat([num_df, churn_catcols], axis = 1)"
   ]
  },
  {
   "cell_type": "code",
   "execution_count": 393,
   "metadata": {},
   "outputs": [
    {
     "data": {
      "text/html": [
       "<div>\n",
       "<style scoped>\n",
       "    .dataframe tbody tr th:only-of-type {\n",
       "        vertical-align: middle;\n",
       "    }\n",
       "\n",
       "    .dataframe tbody tr th {\n",
       "        vertical-align: top;\n",
       "    }\n",
       "\n",
       "    .dataframe thead th {\n",
       "        text-align: right;\n",
       "    }\n",
       "</style>\n",
       "<table border=\"1\" class=\"dataframe\">\n",
       "  <thead>\n",
       "    <tr style=\"text-align: right;\">\n",
       "      <th></th>\n",
       "      <th>bill_cycl</th>\n",
       "      <th>secured_revenue</th>\n",
       "      <th>tenure</th>\n",
       "      <th>contract_end</th>\n",
       "      <th>gender_M</th>\n",
       "      <th>serv_type_ADSL</th>\n",
       "      <th>serv_type_RBS</th>\n",
       "      <th>serv_type_VDSL</th>\n",
       "      <th>churn_Y</th>\n",
       "    </tr>\n",
       "  </thead>\n",
       "  <tbody>\n",
       "    <tr>\n",
       "      <th>0</th>\n",
       "      <td>1</td>\n",
       "      <td>137.98</td>\n",
       "      <td>216</td>\n",
       "      <td>202003.0</td>\n",
       "      <td>1</td>\n",
       "      <td>0</td>\n",
       "      <td>0</td>\n",
       "      <td>1</td>\n",
       "      <td>0</td>\n",
       "    </tr>\n",
       "    <tr>\n",
       "      <th>3</th>\n",
       "      <td>15</td>\n",
       "      <td>77.00</td>\n",
       "      <td>219</td>\n",
       "      <td>202001.0</td>\n",
       "      <td>1</td>\n",
       "      <td>0</td>\n",
       "      <td>0</td>\n",
       "      <td>1</td>\n",
       "      <td>0</td>\n",
       "    </tr>\n",
       "    <tr>\n",
       "      <th>5</th>\n",
       "      <td>11</td>\n",
       "      <td>128.34</td>\n",
       "      <td>225</td>\n",
       "      <td>202204.0</td>\n",
       "      <td>1</td>\n",
       "      <td>0</td>\n",
       "      <td>1</td>\n",
       "      <td>0</td>\n",
       "      <td>0</td>\n",
       "    </tr>\n",
       "    <tr>\n",
       "      <th>6</th>\n",
       "      <td>1</td>\n",
       "      <td>174.00</td>\n",
       "      <td>216</td>\n",
       "      <td>202103.0</td>\n",
       "      <td>1</td>\n",
       "      <td>0</td>\n",
       "      <td>1</td>\n",
       "      <td>0</td>\n",
       "      <td>0</td>\n",
       "    </tr>\n",
       "    <tr>\n",
       "      <th>8</th>\n",
       "      <td>11</td>\n",
       "      <td>90.45</td>\n",
       "      <td>220</td>\n",
       "      <td>202104.0</td>\n",
       "      <td>1</td>\n",
       "      <td>0</td>\n",
       "      <td>0</td>\n",
       "      <td>1</td>\n",
       "      <td>0</td>\n",
       "    </tr>\n",
       "  </tbody>\n",
       "</table>\n",
       "</div>"
      ],
      "text/plain": [
       "   bill_cycl  secured_revenue  tenure  contract_end  gender_M  serv_type_ADSL  \\\n",
       "0          1           137.98     216      202003.0         1               0   \n",
       "3         15            77.00     219      202001.0         1               0   \n",
       "5         11           128.34     225      202204.0         1               0   \n",
       "6          1           174.00     216      202103.0         1               0   \n",
       "8         11            90.45     220      202104.0         1               0   \n",
       "\n",
       "   serv_type_RBS  serv_type_VDSL  churn_Y  \n",
       "0              0               1        0  \n",
       "3              0               1        0  \n",
       "5              1               0        0  \n",
       "6              1               0        0  \n",
       "8              0               1        0  "
      ]
     },
     "execution_count": 393,
     "metadata": {},
     "output_type": "execute_result"
    }
   ],
   "source": [
    "churn_data_imbalanced_df.head()"
   ]
  },
  {
   "cell_type": "code",
   "execution_count": 394,
   "metadata": {},
   "outputs": [],
   "source": [
    "y = churn_data_imbalanced_df[\"churn_Y\"].values\n",
    "\n",
    "X = churn_data_imbalanced_df.drop(['churn_Y'], axis=1)"
   ]
  },
  {
   "cell_type": "code",
   "execution_count": 395,
   "metadata": {},
   "outputs": [
    {
     "name": "stdout",
     "output_type": "stream",
     "text": [
      "[[-2.08776248e-02  1.80560394e-04 -6.91818823e-03 -1.17305366e-04\n",
      "  -1.15044217e-03 -4.73283004e-06 -1.22260086e-03  7.68915195e-05]]\n",
      "[-0.00115044]\n"
     ]
    }
   ],
   "source": [
    "from sklearn.linear_model import LogisticRegression\n",
    "from sklearn import metrics\n",
    "logreg = LogisticRegression()\n",
    "logreg.fit(X, y)\n",
    "print(logreg.coef_)\n",
    "print(logreg.intercept_)\n"
   ]
  },
  {
   "cell_type": "code",
   "execution_count": 396,
   "metadata": {},
   "outputs": [],
   "source": [
    "from sklearn.model_selection import train_test_split\n",
    "xTrain, xTest, yTrain, yTest = train_test_split(X, y, test_size=0.30, random_state=12345)"
   ]
  },
  {
   "cell_type": "code",
   "execution_count": 397,
   "metadata": {},
   "outputs": [
    {
     "data": {
      "text/plain": [
       "LogisticRegression(C=1.0, class_weight=None, dual=False, fit_intercept=True,\n",
       "          intercept_scaling=1, max_iter=100, multi_class='ovr', n_jobs=1,\n",
       "          penalty='l2', random_state=None, solver='liblinear', tol=0.0001,\n",
       "          verbose=0, warm_start=False)"
      ]
     },
     "execution_count": 397,
     "metadata": {},
     "output_type": "execute_result"
    }
   ],
   "source": [
    "logreg.fit(xTrain, yTrain)"
   ]
  },
  {
   "cell_type": "code",
   "execution_count": 398,
   "metadata": {},
   "outputs": [],
   "source": [
    "y_pred_test = logreg.predict(xTest)"
   ]
  },
  {
   "cell_type": "code",
   "execution_count": 399,
   "metadata": {},
   "outputs": [
    {
     "name": "stdout",
     "output_type": "stream",
     "text": [
      "0.9947727700287565\n",
      "0.0\n"
     ]
    }
   ],
   "source": [
    "print(metrics.accuracy_score(yTest, y_pred_test))\n",
    "print(metrics.recall_score(yTest, y_pred_test))"
   ]
  },
  {
   "cell_type": "code",
   "execution_count": 400,
   "metadata": {},
   "outputs": [
    {
     "data": {
      "text/plain": [
       "array([[74029,     0],\n",
       "       [  389,     0]], dtype=int64)"
      ]
     },
     "execution_count": 400,
     "metadata": {},
     "output_type": "execute_result"
    }
   ],
   "source": [
    "conf = metrics.confusion_matrix(yTest, y_pred_test)\n",
    "conf"
   ]
  },
  {
   "cell_type": "code",
   "execution_count": 401,
   "metadata": {},
   "outputs": [
    {
     "name": "stdout",
     "output_type": "stream",
     "text": [
      "             precision    recall  f1-score   support\n",
      "\n",
      "          0       0.99      1.00      1.00     74029\n",
      "          1       0.00      0.00      0.00       389\n",
      "\n",
      "avg / total       0.99      0.99      0.99     74418\n",
      "\n"
     ]
    },
    {
     "name": "stderr",
     "output_type": "stream",
     "text": [
      "C:\\Users\\premy_unni\\AppData\\Local\\Continuum\\anaconda3\\lib\\site-packages\\sklearn\\metrics\\classification.py:1135: UndefinedMetricWarning: Precision and F-score are ill-defined and being set to 0.0 in labels with no predicted samples.\n",
      "  'precision', 'predicted', average, warn_for)\n"
     ]
    }
   ],
   "source": [
    "from sklearn.metrics import classification_report\n",
    "\n",
    "print(classification_report(yTest, y_pred_test))"
   ]
  },
  {
   "cell_type": "markdown",
   "metadata": {},
   "source": [
    "There is data imbalance, will try Undersampling"
   ]
  },
  {
   "cell_type": "code",
   "execution_count": null,
   "metadata": {},
   "outputs": [],
   "source": []
  },
  {
   "cell_type": "code",
   "execution_count": 304,
   "metadata": {},
   "outputs": [],
   "source": [
    "churn = len(churn_data_df[churn_data_df['churn'] == 'Y'])"
   ]
  },
  {
   "cell_type": "code",
   "execution_count": 305,
   "metadata": {},
   "outputs": [],
   "source": [
    "# Get indices of non churn data\n",
    "non_churn_indices = churn_data_df[churn_data_df.churn == 'N'].index"
   ]
  },
  {
   "cell_type": "code",
   "execution_count": 306,
   "metadata": {},
   "outputs": [],
   "source": [
    "# Random sample of non churn data\n",
    "random_indices = np.random.choice(non_churn_indices,churn, replace=False)"
   ]
  },
  {
   "cell_type": "code",
   "execution_count": 307,
   "metadata": {},
   "outputs": [],
   "source": [
    "# Find indices of churn data\n",
    "churn_indices = churn_data_df[churn_data_df.churn == 'Y'].index"
   ]
  },
  {
   "cell_type": "code",
   "execution_count": 308,
   "metadata": {},
   "outputs": [],
   "source": [
    "under_sample_indices = np.concatenate([churn_indices,random_indices])"
   ]
  },
  {
   "cell_type": "code",
   "execution_count": 309,
   "metadata": {},
   "outputs": [],
   "source": [
    "churn_under_sample = churn_data_df.loc[under_sample_indices]"
   ]
  },
  {
   "cell_type": "code",
   "execution_count": 310,
   "metadata": {},
   "outputs": [
    {
     "data": {
      "text/html": [
       "<div>\n",
       "<style scoped>\n",
       "    .dataframe tbody tr th:only-of-type {\n",
       "        vertical-align: middle;\n",
       "    }\n",
       "\n",
       "    .dataframe tbody tr th {\n",
       "        vertical-align: top;\n",
       "    }\n",
       "\n",
       "    .dataframe thead th {\n",
       "        text-align: right;\n",
       "    }\n",
       "</style>\n",
       "<table border=\"1\" class=\"dataframe\">\n",
       "  <thead>\n",
       "    <tr style=\"text-align: right;\">\n",
       "      <th></th>\n",
       "      <th>acct_no</th>\n",
       "      <th>cont_no</th>\n",
       "      <th>gender</th>\n",
       "      <th>bill_cycl</th>\n",
       "      <th>serv_type</th>\n",
       "      <th>secured_revenue</th>\n",
       "      <th>tenure</th>\n",
       "      <th>churn</th>\n",
       "      <th>contract_end</th>\n",
       "    </tr>\n",
       "  </thead>\n",
       "  <tbody>\n",
       "    <tr>\n",
       "      <th>567</th>\n",
       "      <td>72760739</td>\n",
       "      <td>1</td>\n",
       "      <td>M</td>\n",
       "      <td>11</td>\n",
       "      <td>VDSL</td>\n",
       "      <td>69.0</td>\n",
       "      <td>172</td>\n",
       "      <td>Y</td>\n",
       "      <td>0.0</td>\n",
       "    </tr>\n",
       "    <tr>\n",
       "      <th>575</th>\n",
       "      <td>72863400</td>\n",
       "      <td>1</td>\n",
       "      <td>M</td>\n",
       "      <td>15</td>\n",
       "      <td>RBS</td>\n",
       "      <td>169.0</td>\n",
       "      <td>182</td>\n",
       "      <td>Y</td>\n",
       "      <td>0.0</td>\n",
       "    </tr>\n",
       "    <tr>\n",
       "      <th>618</th>\n",
       "      <td>72817273</td>\n",
       "      <td>1</td>\n",
       "      <td>M</td>\n",
       "      <td>1</td>\n",
       "      <td>RBS</td>\n",
       "      <td>269.0</td>\n",
       "      <td>183</td>\n",
       "      <td>Y</td>\n",
       "      <td>0.0</td>\n",
       "    </tr>\n",
       "    <tr>\n",
       "      <th>813</th>\n",
       "      <td>73797581</td>\n",
       "      <td>1</td>\n",
       "      <td>M</td>\n",
       "      <td>11</td>\n",
       "      <td>RBS</td>\n",
       "      <td>269.0</td>\n",
       "      <td>170</td>\n",
       "      <td>Y</td>\n",
       "      <td>0.0</td>\n",
       "    </tr>\n",
       "    <tr>\n",
       "      <th>893</th>\n",
       "      <td>74028879</td>\n",
       "      <td>1</td>\n",
       "      <td>M</td>\n",
       "      <td>1</td>\n",
       "      <td>RBS</td>\n",
       "      <td>169.0</td>\n",
       "      <td>168</td>\n",
       "      <td>Y</td>\n",
       "      <td>0.0</td>\n",
       "    </tr>\n",
       "  </tbody>\n",
       "</table>\n",
       "</div>"
      ],
      "text/plain": [
       "      acct_no  cont_no gender  bill_cycl serv_type  secured_revenue  tenure  \\\n",
       "567  72760739        1      M         11      VDSL             69.0     172   \n",
       "575  72863400        1      M         15       RBS            169.0     182   \n",
       "618  72817273        1      M          1       RBS            269.0     183   \n",
       "813  73797581        1      M         11       RBS            269.0     170   \n",
       "893  74028879        1      M          1       RBS            169.0     168   \n",
       "\n",
       "    churn  contract_end  \n",
       "567     Y           0.0  \n",
       "575     Y           0.0  \n",
       "618     Y           0.0  \n",
       "813     Y           0.0  \n",
       "893     Y           0.0  "
      ]
     },
     "execution_count": 310,
     "metadata": {},
     "output_type": "execute_result"
    }
   ],
   "source": [
    "churn_under_sample.head()"
   ]
  },
  {
   "cell_type": "code",
   "execution_count": 311,
   "metadata": {},
   "outputs": [
    {
     "data": {
      "text/plain": [
       "N    1264\n",
       "Y    1264\n",
       "Name: churn, dtype: int64"
      ]
     },
     "execution_count": 311,
     "metadata": {},
     "output_type": "execute_result"
    }
   ],
   "source": [
    "churn_under_sample.churn.value_counts()"
   ]
  },
  {
   "cell_type": "code",
   "execution_count": 158,
   "metadata": {},
   "outputs": [
    {
     "data": {
      "image/png": "[encoded data removed]",
      "text/plain": [
       "<matplotlib.figure.Figure at 0x20eba6048d0>"
      ]
     },
     "metadata": {},
     "output_type": "display_data"
    }
   ],
   "source": [
    "sns.factorplot(x='gender', col='churn', kind='count', data=churn_under_sample);"
   ]
  },
  {
   "cell_type": "code",
   "execution_count": 159,
   "metadata": {},
   "outputs": [
    {
     "data": {
      "image/png": "[encoded data removed]",
      "text/plain": [
       "<matplotlib.figure.Figure at 0x20ebccd1c88>"
      ]
     },
     "metadata": {},
     "output_type": "display_data"
    }
   ],
   "source": [
    "sns.factorplot(x='serv_type', col='churn', kind='count', data=churn_under_sample);"
   ]
  },
  {
   "cell_type": "code",
   "execution_count": 312,
   "metadata": {},
   "outputs": [
    {
     "data": {
      "text/html": [
       "<div>\n",
       "<style scoped>\n",
       "    .dataframe tbody tr th:only-of-type {\n",
       "        vertical-align: middle;\n",
       "    }\n",
       "\n",
       "    .dataframe tbody tr th {\n",
       "        vertical-align: top;\n",
       "    }\n",
       "\n",
       "    .dataframe thead th {\n",
       "        text-align: right;\n",
       "    }\n",
       "</style>\n",
       "<table border=\"1\" class=\"dataframe\">\n",
       "  <thead>\n",
       "    <tr style=\"text-align: right;\">\n",
       "      <th></th>\n",
       "      <th>gender</th>\n",
       "      <th>serv_type</th>\n",
       "      <th>churn</th>\n",
       "    </tr>\n",
       "  </thead>\n",
       "  <tbody>\n",
       "    <tr>\n",
       "      <th>567</th>\n",
       "      <td>M</td>\n",
       "      <td>VDSL</td>\n",
       "      <td>Y</td>\n",
       "    </tr>\n",
       "    <tr>\n",
       "      <th>575</th>\n",
       "      <td>M</td>\n",
       "      <td>RBS</td>\n",
       "      <td>Y</td>\n",
       "    </tr>\n",
       "    <tr>\n",
       "      <th>618</th>\n",
       "      <td>M</td>\n",
       "      <td>RBS</td>\n",
       "      <td>Y</td>\n",
       "    </tr>\n",
       "    <tr>\n",
       "      <th>813</th>\n",
       "      <td>M</td>\n",
       "      <td>RBS</td>\n",
       "      <td>Y</td>\n",
       "    </tr>\n",
       "    <tr>\n",
       "      <th>893</th>\n",
       "      <td>M</td>\n",
       "      <td>RBS</td>\n",
       "      <td>Y</td>\n",
       "    </tr>\n",
       "  </tbody>\n",
       "</table>\n",
       "</div>"
      ],
      "text/plain": [
       "    gender serv_type churn\n",
       "567      M      VDSL     Y\n",
       "575      M       RBS     Y\n",
       "618      M       RBS     Y\n",
       "813      M       RBS     Y\n",
       "893      M       RBS     Y"
      ]
     },
     "execution_count": 312,
     "metadata": {},
     "output_type": "execute_result"
    }
   ],
   "source": [
    "# Taking categorical columns\n",
    "churn_cat_df = churn_under_sample[['gender', 'serv_type', 'churn']]\n",
    "churn_cat_df.head()"
   ]
  },
  {
   "cell_type": "code",
   "execution_count": 313,
   "metadata": {},
   "outputs": [],
   "source": [
    "# Creating dummy columns for categorical values \n",
    "churn_catcols = pd.get_dummies(churn_cat_df )"
   ]
  },
  {
   "cell_type": "code",
   "execution_count": 314,
   "metadata": {},
   "outputs": [
    {
     "data": {
      "text/html": [
       "<div>\n",
       "<style scoped>\n",
       "    .dataframe tbody tr th:only-of-type {\n",
       "        vertical-align: middle;\n",
       "    }\n",
       "\n",
       "    .dataframe tbody tr th {\n",
       "        vertical-align: top;\n",
       "    }\n",
       "\n",
       "    .dataframe thead th {\n",
       "        text-align: right;\n",
       "    }\n",
       "</style>\n",
       "<table border=\"1\" class=\"dataframe\">\n",
       "  <thead>\n",
       "    <tr style=\"text-align: right;\">\n",
       "      <th></th>\n",
       "      <th>gender_M</th>\n",
       "      <th>serv_type_ADSL</th>\n",
       "      <th>serv_type_RBS</th>\n",
       "      <th>serv_type_VDSL</th>\n",
       "      <th>churn_Y</th>\n",
       "    </tr>\n",
       "  </thead>\n",
       "  <tbody>\n",
       "    <tr>\n",
       "      <th>567</th>\n",
       "      <td>1</td>\n",
       "      <td>0</td>\n",
       "      <td>0</td>\n",
       "      <td>1</td>\n",
       "      <td>1</td>\n",
       "    </tr>\n",
       "    <tr>\n",
       "      <th>575</th>\n",
       "      <td>1</td>\n",
       "      <td>0</td>\n",
       "      <td>1</td>\n",
       "      <td>0</td>\n",
       "      <td>1</td>\n",
       "    </tr>\n",
       "    <tr>\n",
       "      <th>618</th>\n",
       "      <td>1</td>\n",
       "      <td>0</td>\n",
       "      <td>1</td>\n",
       "      <td>0</td>\n",
       "      <td>1</td>\n",
       "    </tr>\n",
       "    <tr>\n",
       "      <th>813</th>\n",
       "      <td>1</td>\n",
       "      <td>0</td>\n",
       "      <td>1</td>\n",
       "      <td>0</td>\n",
       "      <td>1</td>\n",
       "    </tr>\n",
       "    <tr>\n",
       "      <th>893</th>\n",
       "      <td>1</td>\n",
       "      <td>0</td>\n",
       "      <td>1</td>\n",
       "      <td>0</td>\n",
       "      <td>1</td>\n",
       "    </tr>\n",
       "  </tbody>\n",
       "</table>\n",
       "</div>"
      ],
      "text/plain": [
       "     gender_M  serv_type_ADSL  serv_type_RBS  serv_type_VDSL  churn_Y\n",
       "567         1               0              0               1        1\n",
       "575         1               0              1               0        1\n",
       "618         1               0              1               0        1\n",
       "813         1               0              1               0        1\n",
       "893         1               0              1               0        1"
      ]
     },
     "execution_count": 314,
     "metadata": {},
     "output_type": "execute_result"
    }
   ],
   "source": [
    "churn_catcols.drop(['churn_N'], axis = 1, inplace = True)\n",
    "churn_catcols.head()"
   ]
  },
  {
   "cell_type": "code",
   "execution_count": 315,
   "metadata": {},
   "outputs": [
    {
     "name": "stdout",
     "output_type": "stream",
     "text": [
      "<class 'pandas.core.frame.DataFrame'>\n",
      "Int64Index: 2528 entries, 567 to 170236\n",
      "Data columns (total 5 columns):\n",
      "gender_M          2528 non-null uint8\n",
      "serv_type_ADSL    2528 non-null uint8\n",
      "serv_type_RBS     2528 non-null uint8\n",
      "serv_type_VDSL    2528 non-null uint8\n",
      "churn_Y           2528 non-null uint8\n",
      "dtypes: uint8(5)\n",
      "memory usage: 32.1 KB\n"
     ]
    }
   ],
   "source": [
    "churn_catcols.info()"
   ]
  },
  {
   "cell_type": "code",
   "execution_count": 347,
   "metadata": {},
   "outputs": [
    {
     "data": {
      "text/html": [
       "<div>\n",
       "<style scoped>\n",
       "    .dataframe tbody tr th:only-of-type {\n",
       "        vertical-align: middle;\n",
       "    }\n",
       "\n",
       "    .dataframe tbody tr th {\n",
       "        vertical-align: top;\n",
       "    }\n",
       "\n",
       "    .dataframe thead th {\n",
       "        text-align: right;\n",
       "    }\n",
       "</style>\n",
       "<table border=\"1\" class=\"dataframe\">\n",
       "  <thead>\n",
       "    <tr style=\"text-align: right;\">\n",
       "      <th></th>\n",
       "      <th>acct_no</th>\n",
       "      <th>cont_no</th>\n",
       "      <th>gender</th>\n",
       "      <th>bill_cycl</th>\n",
       "      <th>serv_type</th>\n",
       "      <th>secured_revenue</th>\n",
       "      <th>tenure</th>\n",
       "      <th>churn</th>\n",
       "      <th>contract_end</th>\n",
       "    </tr>\n",
       "  </thead>\n",
       "  <tbody>\n",
       "    <tr>\n",
       "      <th>102382</th>\n",
       "      <td>95709630</td>\n",
       "      <td>1</td>\n",
       "      <td>M</td>\n",
       "      <td>18</td>\n",
       "      <td>RBS</td>\n",
       "      <td>93.96</td>\n",
       "      <td>14</td>\n",
       "      <td>N</td>\n",
       "      <td>202008.0</td>\n",
       "    </tr>\n",
       "    <tr>\n",
       "      <th>167754</th>\n",
       "      <td>91478347</td>\n",
       "      <td>1</td>\n",
       "      <td>M</td>\n",
       "      <td>25</td>\n",
       "      <td>RBS</td>\n",
       "      <td>99.00</td>\n",
       "      <td>112</td>\n",
       "      <td>N</td>\n",
       "      <td>202111.0</td>\n",
       "    </tr>\n",
       "    <tr>\n",
       "      <th>210682</th>\n",
       "      <td>91225664</td>\n",
       "      <td>1</td>\n",
       "      <td>M</td>\n",
       "      <td>25</td>\n",
       "      <td>VDSL</td>\n",
       "      <td>109.80</td>\n",
       "      <td>117</td>\n",
       "      <td>N</td>\n",
       "      <td>202203.0</td>\n",
       "    </tr>\n",
       "    <tr>\n",
       "      <th>107270</th>\n",
       "      <td>93168649</td>\n",
       "      <td>1</td>\n",
       "      <td>M</td>\n",
       "      <td>18</td>\n",
       "      <td>VDSL</td>\n",
       "      <td>128.34</td>\n",
       "      <td>93</td>\n",
       "      <td>N</td>\n",
       "      <td>202004.0</td>\n",
       "    </tr>\n",
       "    <tr>\n",
       "      <th>170236</th>\n",
       "      <td>95000477</td>\n",
       "      <td>1</td>\n",
       "      <td>M</td>\n",
       "      <td>25</td>\n",
       "      <td>RBS</td>\n",
       "      <td>298.00</td>\n",
       "      <td>35</td>\n",
       "      <td>N</td>\n",
       "      <td>202011.0</td>\n",
       "    </tr>\n",
       "  </tbody>\n",
       "</table>\n",
       "</div>"
      ],
      "text/plain": [
       "         acct_no  cont_no gender  bill_cycl serv_type  secured_revenue  \\\n",
       "102382  95709630        1      M         18       RBS            93.96   \n",
       "167754  91478347        1      M         25       RBS            99.00   \n",
       "210682  91225664        1      M         25      VDSL           109.80   \n",
       "107270  93168649        1      M         18      VDSL           128.34   \n",
       "170236  95000477        1      M         25       RBS           298.00   \n",
       "\n",
       "        tenure churn  contract_end  \n",
       "102382      14     N      202008.0  \n",
       "167754     112     N      202111.0  \n",
       "210682     117     N      202203.0  \n",
       "107270      93     N      202004.0  \n",
       "170236      35     N      202011.0  "
      ]
     },
     "execution_count": 347,
     "metadata": {},
     "output_type": "execute_result"
    }
   ],
   "source": [
    "churn_under_sample.tail()"
   ]
  },
  {
   "cell_type": "code",
   "execution_count": 362,
   "metadata": {},
   "outputs": [],
   "source": [
    "num_df = churn_under_sample.drop(['acct_no','gender','cont_no','serv_type','churn'], axis = 1)"
   ]
  },
  {
   "cell_type": "code",
   "execution_count": 363,
   "metadata": {},
   "outputs": [
    {
     "data": {
      "text/html": [
       "<div>\n",
       "<style scoped>\n",
       "    .dataframe tbody tr th:only-of-type {\n",
       "        vertical-align: middle;\n",
       "    }\n",
       "\n",
       "    .dataframe tbody tr th {\n",
       "        vertical-align: top;\n",
       "    }\n",
       "\n",
       "    .dataframe thead th {\n",
       "        text-align: right;\n",
       "    }\n",
       "</style>\n",
       "<table border=\"1\" class=\"dataframe\">\n",
       "  <thead>\n",
       "    <tr style=\"text-align: right;\">\n",
       "      <th></th>\n",
       "      <th>bill_cycl</th>\n",
       "      <th>secured_revenue</th>\n",
       "      <th>tenure</th>\n",
       "      <th>contract_end</th>\n",
       "    </tr>\n",
       "  </thead>\n",
       "  <tbody>\n",
       "    <tr>\n",
       "      <th>567</th>\n",
       "      <td>11</td>\n",
       "      <td>69.0</td>\n",
       "      <td>172</td>\n",
       "      <td>0.0</td>\n",
       "    </tr>\n",
       "    <tr>\n",
       "      <th>575</th>\n",
       "      <td>15</td>\n",
       "      <td>169.0</td>\n",
       "      <td>182</td>\n",
       "      <td>0.0</td>\n",
       "    </tr>\n",
       "    <tr>\n",
       "      <th>618</th>\n",
       "      <td>1</td>\n",
       "      <td>269.0</td>\n",
       "      <td>183</td>\n",
       "      <td>0.0</td>\n",
       "    </tr>\n",
       "    <tr>\n",
       "      <th>813</th>\n",
       "      <td>11</td>\n",
       "      <td>269.0</td>\n",
       "      <td>170</td>\n",
       "      <td>0.0</td>\n",
       "    </tr>\n",
       "    <tr>\n",
       "      <th>893</th>\n",
       "      <td>1</td>\n",
       "      <td>169.0</td>\n",
       "      <td>168</td>\n",
       "      <td>0.0</td>\n",
       "    </tr>\n",
       "  </tbody>\n",
       "</table>\n",
       "</div>"
      ],
      "text/plain": [
       "     bill_cycl  secured_revenue  tenure  contract_end\n",
       "567         11             69.0     172           0.0\n",
       "575         15            169.0     182           0.0\n",
       "618          1            269.0     183           0.0\n",
       "813         11            269.0     170           0.0\n",
       "893          1            169.0     168           0.0"
      ]
     },
     "execution_count": 363,
     "metadata": {},
     "output_type": "execute_result"
    }
   ],
   "source": [
    "num_df.head()"
   ]
  },
  {
   "cell_type": "code",
   "execution_count": 364,
   "metadata": {},
   "outputs": [],
   "source": [
    "churn_final_df = pd.concat([num_df, churn_catcols], axis = 1)"
   ]
  },
  {
   "cell_type": "code",
   "execution_count": 365,
   "metadata": {},
   "outputs": [
    {
     "data": {
      "text/html": [
       "<div>\n",
       "<style scoped>\n",
       "    .dataframe tbody tr th:only-of-type {\n",
       "        vertical-align: middle;\n",
       "    }\n",
       "\n",
       "    .dataframe tbody tr th {\n",
       "        vertical-align: top;\n",
       "    }\n",
       "\n",
       "    .dataframe thead th {\n",
       "        text-align: right;\n",
       "    }\n",
       "</style>\n",
       "<table border=\"1\" class=\"dataframe\">\n",
       "  <thead>\n",
       "    <tr style=\"text-align: right;\">\n",
       "      <th></th>\n",
       "      <th>bill_cycl</th>\n",
       "      <th>secured_revenue</th>\n",
       "      <th>tenure</th>\n",
       "      <th>contract_end</th>\n",
       "      <th>gender_M</th>\n",
       "      <th>serv_type_ADSL</th>\n",
       "      <th>serv_type_RBS</th>\n",
       "      <th>serv_type_VDSL</th>\n",
       "      <th>churn_Y</th>\n",
       "    </tr>\n",
       "  </thead>\n",
       "  <tbody>\n",
       "    <tr>\n",
       "      <th>567</th>\n",
       "      <td>11</td>\n",
       "      <td>69.0</td>\n",
       "      <td>172</td>\n",
       "      <td>0.0</td>\n",
       "      <td>1</td>\n",
       "      <td>0</td>\n",
       "      <td>0</td>\n",
       "      <td>1</td>\n",
       "      <td>1</td>\n",
       "    </tr>\n",
       "    <tr>\n",
       "      <th>575</th>\n",
       "      <td>15</td>\n",
       "      <td>169.0</td>\n",
       "      <td>182</td>\n",
       "      <td>0.0</td>\n",
       "      <td>1</td>\n",
       "      <td>0</td>\n",
       "      <td>1</td>\n",
       "      <td>0</td>\n",
       "      <td>1</td>\n",
       "    </tr>\n",
       "    <tr>\n",
       "      <th>618</th>\n",
       "      <td>1</td>\n",
       "      <td>269.0</td>\n",
       "      <td>183</td>\n",
       "      <td>0.0</td>\n",
       "      <td>1</td>\n",
       "      <td>0</td>\n",
       "      <td>1</td>\n",
       "      <td>0</td>\n",
       "      <td>1</td>\n",
       "    </tr>\n",
       "    <tr>\n",
       "      <th>813</th>\n",
       "      <td>11</td>\n",
       "      <td>269.0</td>\n",
       "      <td>170</td>\n",
       "      <td>0.0</td>\n",
       "      <td>1</td>\n",
       "      <td>0</td>\n",
       "      <td>1</td>\n",
       "      <td>0</td>\n",
       "      <td>1</td>\n",
       "    </tr>\n",
       "    <tr>\n",
       "      <th>893</th>\n",
       "      <td>1</td>\n",
       "      <td>169.0</td>\n",
       "      <td>168</td>\n",
       "      <td>0.0</td>\n",
       "      <td>1</td>\n",
       "      <td>0</td>\n",
       "      <td>1</td>\n",
       "      <td>0</td>\n",
       "      <td>1</td>\n",
       "    </tr>\n",
       "  </tbody>\n",
       "</table>\n",
       "</div>"
      ],
      "text/plain": [
       "     bill_cycl  secured_revenue  tenure  contract_end  gender_M  \\\n",
       "567         11             69.0     172           0.0         1   \n",
       "575         15            169.0     182           0.0         1   \n",
       "618          1            269.0     183           0.0         1   \n",
       "813         11            269.0     170           0.0         1   \n",
       "893          1            169.0     168           0.0         1   \n",
       "\n",
       "     serv_type_ADSL  serv_type_RBS  serv_type_VDSL  churn_Y  \n",
       "567               0              0               1        1  \n",
       "575               0              1               0        1  \n",
       "618               0              1               0        1  \n",
       "813               0              1               0        1  \n",
       "893               0              1               0        1  "
      ]
     },
     "execution_count": 365,
     "metadata": {},
     "output_type": "execute_result"
    }
   ],
   "source": [
    "churn_final_df.head()"
   ]
  },
  {
   "cell_type": "code",
   "execution_count": 366,
   "metadata": {},
   "outputs": [
    {
     "name": "stdout",
     "output_type": "stream",
     "text": [
      "<class 'pandas.core.frame.DataFrame'>\n",
      "Int64Index: 2528 entries, 567 to 170236\n",
      "Data columns (total 9 columns):\n",
      "bill_cycl          2528 non-null int64\n",
      "secured_revenue    2528 non-null float64\n",
      "tenure             2528 non-null int64\n",
      "contract_end       2528 non-null float64\n",
      "gender_M           2528 non-null uint8\n",
      "serv_type_ADSL     2528 non-null uint8\n",
      "serv_type_RBS      2528 non-null uint8\n",
      "serv_type_VDSL     2528 non-null uint8\n",
      "churn_Y            2528 non-null uint8\n",
      "dtypes: float64(2), int64(2), uint8(5)\n",
      "memory usage: 111.1 KB\n"
     ]
    }
   ],
   "source": [
    "churn_final_df.info()"
   ]
  },
  {
   "cell_type": "code",
   "execution_count": 367,
   "metadata": {},
   "outputs": [],
   "source": [
    "y = churn_final_df[\"churn_Y\"].values\n",
    "\n",
    "X = churn_final_df.drop(['churn_Y'], axis=1)"
   ]
  },
  {
   "cell_type": "code",
   "execution_count": 368,
   "metadata": {},
   "outputs": [
    {
     "name": "stdout",
     "output_type": "stream",
     "text": [
      "[[ 6.04621011e-03  9.18328228e-03  1.73568948e-02 -1.06311824e-04\n",
      "   3.08019750e-04 -3.66437202e-13  1.65653576e-04  1.42366174e-04]]\n",
      "[0.00030802]\n"
     ]
    }
   ],
   "source": [
    "from sklearn.linear_model import LogisticRegression\n",
    "from sklearn import metrics\n",
    "logreg = LogisticRegression()\n",
    "logreg.fit(X, y)\n",
    "print(logreg.coef_)\n",
    "print(logreg.intercept_)\n"
   ]
  },
  {
   "cell_type": "code",
   "execution_count": 369,
   "metadata": {},
   "outputs": [],
   "source": [
    "from sklearn.model_selection import train_test_split\n",
    "xTrain, xTest, yTrain, yTest = train_test_split(X, y, test_size=0.30, random_state=12345)"
   ]
  },
  {
   "cell_type": "code",
   "execution_count": 370,
   "metadata": {},
   "outputs": [
    {
     "data": {
      "text/plain": [
       "LogisticRegression(C=1.0, class_weight=None, dual=False, fit_intercept=True,\n",
       "          intercept_scaling=1, max_iter=100, multi_class='ovr', n_jobs=1,\n",
       "          penalty='l2', random_state=None, solver='liblinear', tol=0.0001,\n",
       "          verbose=0, warm_start=False)"
      ]
     },
     "execution_count": 370,
     "metadata": {},
     "output_type": "execute_result"
    }
   ],
   "source": [
    "logreg.fit(xTrain, yTrain)"
   ]
  },
  {
   "cell_type": "code",
   "execution_count": 371,
   "metadata": {},
   "outputs": [
    {
     "name": "stdout",
     "output_type": "stream",
     "text": [
      "[[ 0.00581078  0.00875847  0.01682472 -0.00010511  0.00029822  0.\n",
      "   0.00015679  0.00014142]]\n",
      "[0.00029822]\n"
     ]
    }
   ],
   "source": [
    "print(logreg.coef_)\n",
    "print(logreg.intercept_)"
   ]
  },
  {
   "cell_type": "code",
   "execution_count": 372,
   "metadata": {},
   "outputs": [],
   "source": [
    "y_pred_test = logreg.predict(xTest)"
   ]
  },
  {
   "cell_type": "code",
   "execution_count": 373,
   "metadata": {},
   "outputs": [
    {
     "name": "stdout",
     "output_type": "stream",
     "text": [
      "0.9894598155467721\n",
      "1.0\n"
     ]
    }
   ],
   "source": [
    "print(metrics.accuracy_score(yTest, y_pred_test))\n",
    "print(metrics.recall_score(yTest, y_pred_test))"
   ]
  },
  {
   "cell_type": "code",
   "execution_count": 374,
   "metadata": {},
   "outputs": [
    {
     "data": {
      "text/plain": [
       "array([[360,   8],\n",
       "       [  0, 391]], dtype=int64)"
      ]
     },
     "execution_count": 374,
     "metadata": {},
     "output_type": "execute_result"
    }
   ],
   "source": [
    "conf = metrics.confusion_matrix(yTest, y_pred_test)\n",
    "conf"
   ]
  },
  {
   "cell_type": "code",
   "execution_count": 375,
   "metadata": {},
   "outputs": [
    {
     "name": "stdout",
     "output_type": "stream",
     "text": [
      "             precision    recall  f1-score   support\n",
      "\n",
      "          0       1.00      0.98      0.99       368\n",
      "          1       0.98      1.00      0.99       391\n",
      "\n",
      "avg / total       0.99      0.99      0.99       759\n",
      "\n"
     ]
    }
   ],
   "source": [
    "from sklearn.metrics import classification_report\n",
    "\n",
    "print(classification_report(yTest, y_pred_test))"
   ]
  },
  {
   "cell_type": "code",
   "execution_count": null,
   "metadata": {},
   "outputs": [],
   "source": []
  }
 ],
 "metadata": {
  "kernelspec": {
   "display_name": "Python 3",
   "language": "python",
   "name": "python3"
  },
  "language_info": {
   "codemirror_mode": {
    "name": "ipython",
    "version": 3
   },
   "file_extension": ".py",
   "mimetype": "text/x-python",
   "name": "python",
   "nbconvert_exporter": "python",
   "pygments_lexer": "ipython3",
   "version": "3.6.4"
  }
 },
 "nbformat": 4,
 "nbformat_minor": 2
}
